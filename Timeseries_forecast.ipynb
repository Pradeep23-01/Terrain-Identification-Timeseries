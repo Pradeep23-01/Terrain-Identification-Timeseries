{
  "nbformat": 4,
  "nbformat_minor": 0,
  "metadata": {
    "colab": {
      "provenance": [],
      "gpuType": "T4"
    },
    "kernelspec": {
      "name": "python3",
      "display_name": "Python 3"
    },
    "language_info": {
      "name": "python"
    },
    "accelerator": "GPU"
  },
  "cells": [
    {
      "cell_type": "markdown",
      "source": [
        "# Importing Libraries"
      ],
      "metadata": {
        "id": "nM-nZcb1ausP"
      }
    },
    {
      "cell_type": "code",
      "source": [
        "import numpy as np\n",
        "\n",
        "from sklearn.preprocessing import MinMaxScaler\n",
        "from tensorflow.keras.models import Sequential\n",
        "from tensorflow.keras.layers import LSTM, Dense"
      ],
      "metadata": {
        "id": "FLUJvEpmZUNm"
      },
      "execution_count": null,
      "outputs": []
    },
    {
      "cell_type": "code",
      "execution_count": null,
      "metadata": {
        "id": "deV90zlbNGiQ"
      },
      "outputs": [],
      "source": [
        "import pandas as pd\n",
        "from statsmodels.tsa.api import VAR\n",
        "from sklearn.model_selection import train_test_split\n",
        "from sklearn.metrics import mean_squared_error\n"
      ]
    },
    {
      "cell_type": "code",
      "source": [
        "from pandas import read_csv\n",
        "from pandas import datetime\n",
        "from matplotlib import pyplot\n",
        "from statsmodels.tsa.arima.model import ARIMA\n",
        "from sklearn.metrics import mean_squared_error\n",
        "from math import sqrt"
      ],
      "metadata": {
        "colab": {
          "base_uri": "https://localhost:8080/"
        },
        "id": "ReKurxF4V4Aa",
        "outputId": "f0d0a6a6-d41f-4510-96e2-d2dda5d99570"
      },
      "execution_count": null,
      "outputs": [
        {
          "output_type": "stream",
          "name": "stderr",
          "text": [
            "<ipython-input-3-7de1611e4133>:2: FutureWarning: The pandas.datetime class is deprecated and will be removed from pandas in a future version. Import from datetime module instead.\n",
            "  from pandas import datetime\n"
          ]
        }
      ]
    },
    {
      "cell_type": "markdown",
      "source": [
        "# Read Data"
      ],
      "metadata": {
        "id": "0LTEnd1rZuFw"
      }
    },
    {
      "cell_type": "code",
      "source": [
        "# Load the data\n",
        "data=pd.read_csv('/content/drive/MyDrive/NeuralNets/Combined_data.csv')"
      ],
      "metadata": {
        "id": "VdTThscdNJbs"
      },
      "execution_count": null,
      "outputs": []
    },
    {
      "cell_type": "markdown",
      "source": [
        "# EDA - add more analysis"
      ],
      "metadata": {
        "id": "qEzXz7KOZwwe"
      }
    },
    {
      "cell_type": "code",
      "source": [
        "data.head()"
      ],
      "metadata": {
        "colab": {
          "base_uri": "https://localhost:8080/",
          "height": 206
        },
        "id": "cPz7gvINNizD",
        "outputId": "95fc6cc6-ae1c-4b90-b118-242269a35002"
      },
      "execution_count": null,
      "outputs": [
        {
          "output_type": "execute_result",
          "data": {
            "text/plain": [
              "      X_acc     Y_acc     Z_acc     X_gyr     Y_gyr     Z_gyr  Label\n",
              "0  4.435275  8.196063  2.974488  0.014215 -0.039157 -0.016744    0.0\n",
              "1  4.186920  8.344455  2.908057  0.005771 -0.004480 -0.003345    0.0\n",
              "2  4.544637  8.408659  2.890000  0.007967  0.022412  0.001159    0.0\n",
              "3  4.849308  8.411614  2.900692  0.027778 -0.010670 -0.014223    0.0\n",
              "4  4.509190  8.118649  2.847298  0.021577 -0.045498 -0.021111    0.0"
            ],
            "text/html": [
              "\n",
              "  <div id=\"df-f90fb7d4-dbd4-438b-8f26-9235231896f1\">\n",
              "    <div class=\"colab-df-container\">\n",
              "      <div>\n",
              "<style scoped>\n",
              "    .dataframe tbody tr th:only-of-type {\n",
              "        vertical-align: middle;\n",
              "    }\n",
              "\n",
              "    .dataframe tbody tr th {\n",
              "        vertical-align: top;\n",
              "    }\n",
              "\n",
              "    .dataframe thead th {\n",
              "        text-align: right;\n",
              "    }\n",
              "</style>\n",
              "<table border=\"1\" class=\"dataframe\">\n",
              "  <thead>\n",
              "    <tr style=\"text-align: right;\">\n",
              "      <th></th>\n",
              "      <th>X_acc</th>\n",
              "      <th>Y_acc</th>\n",
              "      <th>Z_acc</th>\n",
              "      <th>X_gyr</th>\n",
              "      <th>Y_gyr</th>\n",
              "      <th>Z_gyr</th>\n",
              "      <th>Label</th>\n",
              "    </tr>\n",
              "  </thead>\n",
              "  <tbody>\n",
              "    <tr>\n",
              "      <th>0</th>\n",
              "      <td>4.435275</td>\n",
              "      <td>8.196063</td>\n",
              "      <td>2.974488</td>\n",
              "      <td>0.014215</td>\n",
              "      <td>-0.039157</td>\n",
              "      <td>-0.016744</td>\n",
              "      <td>0.0</td>\n",
              "    </tr>\n",
              "    <tr>\n",
              "      <th>1</th>\n",
              "      <td>4.186920</td>\n",
              "      <td>8.344455</td>\n",
              "      <td>2.908057</td>\n",
              "      <td>0.005771</td>\n",
              "      <td>-0.004480</td>\n",
              "      <td>-0.003345</td>\n",
              "      <td>0.0</td>\n",
              "    </tr>\n",
              "    <tr>\n",
              "      <th>2</th>\n",
              "      <td>4.544637</td>\n",
              "      <td>8.408659</td>\n",
              "      <td>2.890000</td>\n",
              "      <td>0.007967</td>\n",
              "      <td>0.022412</td>\n",
              "      <td>0.001159</td>\n",
              "      <td>0.0</td>\n",
              "    </tr>\n",
              "    <tr>\n",
              "      <th>3</th>\n",
              "      <td>4.849308</td>\n",
              "      <td>8.411614</td>\n",
              "      <td>2.900692</td>\n",
              "      <td>0.027778</td>\n",
              "      <td>-0.010670</td>\n",
              "      <td>-0.014223</td>\n",
              "      <td>0.0</td>\n",
              "    </tr>\n",
              "    <tr>\n",
              "      <th>4</th>\n",
              "      <td>4.509190</td>\n",
              "      <td>8.118649</td>\n",
              "      <td>2.847298</td>\n",
              "      <td>0.021577</td>\n",
              "      <td>-0.045498</td>\n",
              "      <td>-0.021111</td>\n",
              "      <td>0.0</td>\n",
              "    </tr>\n",
              "  </tbody>\n",
              "</table>\n",
              "</div>\n",
              "      <button class=\"colab-df-convert\" onclick=\"convertToInteractive('df-f90fb7d4-dbd4-438b-8f26-9235231896f1')\"\n",
              "              title=\"Convert this dataframe to an interactive table.\"\n",
              "              style=\"display:none;\">\n",
              "        \n",
              "  <svg xmlns=\"http://www.w3.org/2000/svg\" height=\"24px\"viewBox=\"0 0 24 24\"\n",
              "       width=\"24px\">\n",
              "    <path d=\"M0 0h24v24H0V0z\" fill=\"none\"/>\n",
              "    <path d=\"M18.56 5.44l.94 2.06.94-2.06 2.06-.94-2.06-.94-.94-2.06-.94 2.06-2.06.94zm-11 1L8.5 8.5l.94-2.06 2.06-.94-2.06-.94L8.5 2.5l-.94 2.06-2.06.94zm10 10l.94 2.06.94-2.06 2.06-.94-2.06-.94-.94-2.06-.94 2.06-2.06.94z\"/><path d=\"M17.41 7.96l-1.37-1.37c-.4-.4-.92-.59-1.43-.59-.52 0-1.04.2-1.43.59L10.3 9.45l-7.72 7.72c-.78.78-.78 2.05 0 2.83L4 21.41c.39.39.9.59 1.41.59.51 0 1.02-.2 1.41-.59l7.78-7.78 2.81-2.81c.8-.78.8-2.07 0-2.86zM5.41 20L4 18.59l7.72-7.72 1.47 1.35L5.41 20z\"/>\n",
              "  </svg>\n",
              "      </button>\n",
              "      \n",
              "  <style>\n",
              "    .colab-df-container {\n",
              "      display:flex;\n",
              "      flex-wrap:wrap;\n",
              "      gap: 12px;\n",
              "    }\n",
              "\n",
              "    .colab-df-convert {\n",
              "      background-color: #E8F0FE;\n",
              "      border: none;\n",
              "      border-radius: 50%;\n",
              "      cursor: pointer;\n",
              "      display: none;\n",
              "      fill: #1967D2;\n",
              "      height: 32px;\n",
              "      padding: 0 0 0 0;\n",
              "      width: 32px;\n",
              "    }\n",
              "\n",
              "    .colab-df-convert:hover {\n",
              "      background-color: #E2EBFA;\n",
              "      box-shadow: 0px 1px 2px rgba(60, 64, 67, 0.3), 0px 1px 3px 1px rgba(60, 64, 67, 0.15);\n",
              "      fill: #174EA6;\n",
              "    }\n",
              "\n",
              "    [theme=dark] .colab-df-convert {\n",
              "      background-color: #3B4455;\n",
              "      fill: #D2E3FC;\n",
              "    }\n",
              "\n",
              "    [theme=dark] .colab-df-convert:hover {\n",
              "      background-color: #434B5C;\n",
              "      box-shadow: 0px 1px 3px 1px rgba(0, 0, 0, 0.15);\n",
              "      filter: drop-shadow(0px 1px 2px rgba(0, 0, 0, 0.3));\n",
              "      fill: #FFFFFF;\n",
              "    }\n",
              "  </style>\n",
              "\n",
              "      <script>\n",
              "        const buttonEl =\n",
              "          document.querySelector('#df-f90fb7d4-dbd4-438b-8f26-9235231896f1 button.colab-df-convert');\n",
              "        buttonEl.style.display =\n",
              "          google.colab.kernel.accessAllowed ? 'block' : 'none';\n",
              "\n",
              "        async function convertToInteractive(key) {\n",
              "          const element = document.querySelector('#df-f90fb7d4-dbd4-438b-8f26-9235231896f1');\n",
              "          const dataTable =\n",
              "            await google.colab.kernel.invokeFunction('convertToInteractive',\n",
              "                                                     [key], {});\n",
              "          if (!dataTable) return;\n",
              "\n",
              "          const docLinkHtml = 'Like what you see? Visit the ' +\n",
              "            '<a target=\"_blank\" href=https://colab.research.google.com/notebooks/data_table.ipynb>data table notebook</a>'\n",
              "            + ' to learn more about interactive tables.';\n",
              "          element.innerHTML = '';\n",
              "          dataTable['output_type'] = 'display_data';\n",
              "          await google.colab.output.renderOutput(dataTable, element);\n",
              "          const docLink = document.createElement('div');\n",
              "          docLink.innerHTML = docLinkHtml;\n",
              "          element.appendChild(docLink);\n",
              "        }\n",
              "      </script>\n",
              "    </div>\n",
              "  </div>\n",
              "  "
            ]
          },
          "metadata": {},
          "execution_count": 39
        }
      ]
    },
    {
      "cell_type": "code",
      "source": [
        "data.describe()"
      ],
      "metadata": {
        "colab": {
          "base_uri": "https://localhost:8080/",
          "height": 300
        },
        "id": "cv7Dzso3S5GL",
        "outputId": "88209332-c611-4b51-9579-0d633ed5f8e1"
      },
      "execution_count": null,
      "outputs": [
        {
          "output_type": "execute_result",
          "data": {
            "text/plain": [
              "              X_acc         Y_acc         Z_acc         X_gyr         Y_gyr  \\\n",
              "count  1.345061e+06  1.345061e+06  1.345061e+06  1.345061e+06  1.345061e+06   \n",
              "mean   6.751456e-01  8.025683e+00  6.103114e+00  2.842174e-03  2.456651e-02   \n",
              "std    5.708717e+00  6.896819e+00  5.598800e+00  3.229458e+00  1.578988e+00   \n",
              "min   -3.915000e+01 -3.897897e+01 -3.150025e+01 -1.162605e+01 -1.219817e+01   \n",
              "25%   -1.942086e+00  4.550504e+00  2.143210e+00 -2.027207e+00 -8.018693e-01   \n",
              "50%    6.561658e-01  8.727592e+00  5.256651e+00 -8.703608e-01 -2.477821e-02   \n",
              "75%    3.335522e+00  1.023084e+01  1.030208e+01  8.058171e-01  8.251345e-01   \n",
              "max    3.939091e+01  3.949133e+01  3.922252e+01  1.107826e+01  1.228276e+01   \n",
              "\n",
              "              Z_gyr         Label  \n",
              "count  1.345061e+06  1.345061e+06  \n",
              "mean  -6.438675e-02  6.116808e-01  \n",
              "std    7.519560e-01  1.123816e+00  \n",
              "min   -7.321725e+00  0.000000e+00  \n",
              "25%   -4.469392e-01  0.000000e+00  \n",
              "50%   -2.396951e-02  0.000000e+00  \n",
              "75%    3.086875e-01  1.000000e+00  \n",
              "max    8.093803e+00  3.000000e+00  "
            ],
            "text/html": [
              "\n",
              "  <div id=\"df-189ac74f-553e-42bc-ba41-e5e2c3b31a8c\">\n",
              "    <div class=\"colab-df-container\">\n",
              "      <div>\n",
              "<style scoped>\n",
              "    .dataframe tbody tr th:only-of-type {\n",
              "        vertical-align: middle;\n",
              "    }\n",
              "\n",
              "    .dataframe tbody tr th {\n",
              "        vertical-align: top;\n",
              "    }\n",
              "\n",
              "    .dataframe thead th {\n",
              "        text-align: right;\n",
              "    }\n",
              "</style>\n",
              "<table border=\"1\" class=\"dataframe\">\n",
              "  <thead>\n",
              "    <tr style=\"text-align: right;\">\n",
              "      <th></th>\n",
              "      <th>X_acc</th>\n",
              "      <th>Y_acc</th>\n",
              "      <th>Z_acc</th>\n",
              "      <th>X_gyr</th>\n",
              "      <th>Y_gyr</th>\n",
              "      <th>Z_gyr</th>\n",
              "      <th>Label</th>\n",
              "    </tr>\n",
              "  </thead>\n",
              "  <tbody>\n",
              "    <tr>\n",
              "      <th>count</th>\n",
              "      <td>1.345061e+06</td>\n",
              "      <td>1.345061e+06</td>\n",
              "      <td>1.345061e+06</td>\n",
              "      <td>1.345061e+06</td>\n",
              "      <td>1.345061e+06</td>\n",
              "      <td>1.345061e+06</td>\n",
              "      <td>1.345061e+06</td>\n",
              "    </tr>\n",
              "    <tr>\n",
              "      <th>mean</th>\n",
              "      <td>6.751456e-01</td>\n",
              "      <td>8.025683e+00</td>\n",
              "      <td>6.103114e+00</td>\n",
              "      <td>2.842174e-03</td>\n",
              "      <td>2.456651e-02</td>\n",
              "      <td>-6.438675e-02</td>\n",
              "      <td>6.116808e-01</td>\n",
              "    </tr>\n",
              "    <tr>\n",
              "      <th>std</th>\n",
              "      <td>5.708717e+00</td>\n",
              "      <td>6.896819e+00</td>\n",
              "      <td>5.598800e+00</td>\n",
              "      <td>3.229458e+00</td>\n",
              "      <td>1.578988e+00</td>\n",
              "      <td>7.519560e-01</td>\n",
              "      <td>1.123816e+00</td>\n",
              "    </tr>\n",
              "    <tr>\n",
              "      <th>min</th>\n",
              "      <td>-3.915000e+01</td>\n",
              "      <td>-3.897897e+01</td>\n",
              "      <td>-3.150025e+01</td>\n",
              "      <td>-1.162605e+01</td>\n",
              "      <td>-1.219817e+01</td>\n",
              "      <td>-7.321725e+00</td>\n",
              "      <td>0.000000e+00</td>\n",
              "    </tr>\n",
              "    <tr>\n",
              "      <th>25%</th>\n",
              "      <td>-1.942086e+00</td>\n",
              "      <td>4.550504e+00</td>\n",
              "      <td>2.143210e+00</td>\n",
              "      <td>-2.027207e+00</td>\n",
              "      <td>-8.018693e-01</td>\n",
              "      <td>-4.469392e-01</td>\n",
              "      <td>0.000000e+00</td>\n",
              "    </tr>\n",
              "    <tr>\n",
              "      <th>50%</th>\n",
              "      <td>6.561658e-01</td>\n",
              "      <td>8.727592e+00</td>\n",
              "      <td>5.256651e+00</td>\n",
              "      <td>-8.703608e-01</td>\n",
              "      <td>-2.477821e-02</td>\n",
              "      <td>-2.396951e-02</td>\n",
              "      <td>0.000000e+00</td>\n",
              "    </tr>\n",
              "    <tr>\n",
              "      <th>75%</th>\n",
              "      <td>3.335522e+00</td>\n",
              "      <td>1.023084e+01</td>\n",
              "      <td>1.030208e+01</td>\n",
              "      <td>8.058171e-01</td>\n",
              "      <td>8.251345e-01</td>\n",
              "      <td>3.086875e-01</td>\n",
              "      <td>1.000000e+00</td>\n",
              "    </tr>\n",
              "    <tr>\n",
              "      <th>max</th>\n",
              "      <td>3.939091e+01</td>\n",
              "      <td>3.949133e+01</td>\n",
              "      <td>3.922252e+01</td>\n",
              "      <td>1.107826e+01</td>\n",
              "      <td>1.228276e+01</td>\n",
              "      <td>8.093803e+00</td>\n",
              "      <td>3.000000e+00</td>\n",
              "    </tr>\n",
              "  </tbody>\n",
              "</table>\n",
              "</div>\n",
              "      <button class=\"colab-df-convert\" onclick=\"convertToInteractive('df-189ac74f-553e-42bc-ba41-e5e2c3b31a8c')\"\n",
              "              title=\"Convert this dataframe to an interactive table.\"\n",
              "              style=\"display:none;\">\n",
              "        \n",
              "  <svg xmlns=\"http://www.w3.org/2000/svg\" height=\"24px\"viewBox=\"0 0 24 24\"\n",
              "       width=\"24px\">\n",
              "    <path d=\"M0 0h24v24H0V0z\" fill=\"none\"/>\n",
              "    <path d=\"M18.56 5.44l.94 2.06.94-2.06 2.06-.94-2.06-.94-.94-2.06-.94 2.06-2.06.94zm-11 1L8.5 8.5l.94-2.06 2.06-.94-2.06-.94L8.5 2.5l-.94 2.06-2.06.94zm10 10l.94 2.06.94-2.06 2.06-.94-2.06-.94-.94-2.06-.94 2.06-2.06.94z\"/><path d=\"M17.41 7.96l-1.37-1.37c-.4-.4-.92-.59-1.43-.59-.52 0-1.04.2-1.43.59L10.3 9.45l-7.72 7.72c-.78.78-.78 2.05 0 2.83L4 21.41c.39.39.9.59 1.41.59.51 0 1.02-.2 1.41-.59l7.78-7.78 2.81-2.81c.8-.78.8-2.07 0-2.86zM5.41 20L4 18.59l7.72-7.72 1.47 1.35L5.41 20z\"/>\n",
              "  </svg>\n",
              "      </button>\n",
              "      \n",
              "  <style>\n",
              "    .colab-df-container {\n",
              "      display:flex;\n",
              "      flex-wrap:wrap;\n",
              "      gap: 12px;\n",
              "    }\n",
              "\n",
              "    .colab-df-convert {\n",
              "      background-color: #E8F0FE;\n",
              "      border: none;\n",
              "      border-radius: 50%;\n",
              "      cursor: pointer;\n",
              "      display: none;\n",
              "      fill: #1967D2;\n",
              "      height: 32px;\n",
              "      padding: 0 0 0 0;\n",
              "      width: 32px;\n",
              "    }\n",
              "\n",
              "    .colab-df-convert:hover {\n",
              "      background-color: #E2EBFA;\n",
              "      box-shadow: 0px 1px 2px rgba(60, 64, 67, 0.3), 0px 1px 3px 1px rgba(60, 64, 67, 0.15);\n",
              "      fill: #174EA6;\n",
              "    }\n",
              "\n",
              "    [theme=dark] .colab-df-convert {\n",
              "      background-color: #3B4455;\n",
              "      fill: #D2E3FC;\n",
              "    }\n",
              "\n",
              "    [theme=dark] .colab-df-convert:hover {\n",
              "      background-color: #434B5C;\n",
              "      box-shadow: 0px 1px 3px 1px rgba(0, 0, 0, 0.15);\n",
              "      filter: drop-shadow(0px 1px 2px rgba(0, 0, 0, 0.3));\n",
              "      fill: #FFFFFF;\n",
              "    }\n",
              "  </style>\n",
              "\n",
              "      <script>\n",
              "        const buttonEl =\n",
              "          document.querySelector('#df-189ac74f-553e-42bc-ba41-e5e2c3b31a8c button.colab-df-convert');\n",
              "        buttonEl.style.display =\n",
              "          google.colab.kernel.accessAllowed ? 'block' : 'none';\n",
              "\n",
              "        async function convertToInteractive(key) {\n",
              "          const element = document.querySelector('#df-189ac74f-553e-42bc-ba41-e5e2c3b31a8c');\n",
              "          const dataTable =\n",
              "            await google.colab.kernel.invokeFunction('convertToInteractive',\n",
              "                                                     [key], {});\n",
              "          if (!dataTable) return;\n",
              "\n",
              "          const docLinkHtml = 'Like what you see? Visit the ' +\n",
              "            '<a target=\"_blank\" href=https://colab.research.google.com/notebooks/data_table.ipynb>data table notebook</a>'\n",
              "            + ' to learn more about interactive tables.';\n",
              "          element.innerHTML = '';\n",
              "          dataTable['output_type'] = 'display_data';\n",
              "          await google.colab.output.renderOutput(dataTable, element);\n",
              "          const docLink = document.createElement('div');\n",
              "          docLink.innerHTML = docLinkHtml;\n",
              "          element.appendChild(docLink);\n",
              "        }\n",
              "      </script>\n",
              "    </div>\n",
              "  </div>\n",
              "  "
            ]
          },
          "metadata": {},
          "execution_count": 6
        }
      ]
    },
    {
      "cell_type": "code",
      "source": [
        "data.info()"
      ],
      "metadata": {
        "colab": {
          "base_uri": "https://localhost:8080/"
        },
        "id": "2KOCv9I-S6gi",
        "outputId": "0fed2575-fba0-46c1-f28f-86c8990459af"
      },
      "execution_count": null,
      "outputs": [
        {
          "output_type": "stream",
          "name": "stdout",
          "text": [
            "<class 'pandas.core.frame.DataFrame'>\n",
            "RangeIndex: 1345061 entries, 0 to 1345060\n",
            "Data columns (total 7 columns):\n",
            " #   Column  Non-Null Count    Dtype  \n",
            "---  ------  --------------    -----  \n",
            " 0   X_acc   1345061 non-null  float64\n",
            " 1   Y_acc   1345061 non-null  float64\n",
            " 2   Z_acc   1345061 non-null  float64\n",
            " 3   X_gyr   1345061 non-null  float64\n",
            " 4   Y_gyr   1345061 non-null  float64\n",
            " 5   Z_gyr   1345061 non-null  float64\n",
            " 6   Label   1345061 non-null  float64\n",
            "dtypes: float64(7)\n",
            "memory usage: 71.8 MB\n"
          ]
        }
      ]
    },
    {
      "cell_type": "code",
      "source": [
        "data['X_acc'].plot()"
      ],
      "metadata": {
        "colab": {
          "base_uri": "https://localhost:8080/",
          "height": 465
        },
        "id": "RSXUAtsGS9oY",
        "outputId": "26bc4b62-f0be-4b7e-af3e-4a1cf791df57"
      },
      "execution_count": null,
      "outputs": [
        {
          "output_type": "execute_result",
          "data": {
            "text/plain": [
              "<Axes: >"
            ]
          },
          "metadata": {},
          "execution_count": 8
        },
        {
          "output_type": "display_data",
          "data": {
            "text/plain": [
              "<Figure size 640x480 with 1 Axes>"
            ],
            "image/png": "[encoded data removed]"
          },
          "metadata": {}
        }
      ]
    },
    {
      "cell_type": "code",
      "source": [
        "data.iloc[0,0]"
      ],
      "metadata": {
        "colab": {
          "base_uri": "https://localhost:8080/"
        },
        "id": "x4zrzd9kdXC3",
        "outputId": "e79ffcd4-ef42-4145-9571-17b58f5b14ae"
      },
      "execution_count": null,
      "outputs": [
        {
          "output_type": "execute_result",
          "data": {
            "text/plain": [
              "4.435275"
            ]
          },
          "metadata": {},
          "execution_count": 8
        }
      ]
    },
    {
      "cell_type": "code",
      "source": [
        "data['Label'].unique()"
      ],
      "metadata": {
        "colab": {
          "base_uri": "https://localhost:8080/"
        },
        "id": "76YaWRksgdEH",
        "outputId": "74cb0b4b-5a73-47a4-e12a-2a484927a20c"
      },
      "execution_count": null,
      "outputs": [
        {
          "output_type": "execute_result",
          "data": {
            "text/plain": [
              "array([0., 1., 2., 3.])"
            ]
          },
          "metadata": {},
          "execution_count": 40
        }
      ]
    },
    {
      "cell_type": "code",
      "source": [
        "# Assuming your DataFrame is called 'df' and the class labels are in the 'Label' column\n",
        "class_counts = data['Label'].value_counts()\n",
        "class_counts"
      ],
      "metadata": {
        "colab": {
          "base_uri": "https://localhost:8080/"
        },
        "id": "vivNi81T_V65",
        "outputId": "f7a988b5-4230-44c0-acfd-d725f1e559d5"
      },
      "execution_count": null,
      "outputs": [
        {
          "output_type": "execute_result",
          "data": {
            "text/plain": [
              "0.0    1006957\n",
              "3.0     204992\n",
              "2.0      74660\n",
              "1.0      58452\n",
              "Name: Label, dtype: int64"
            ]
          },
          "metadata": {},
          "execution_count": 41
        }
      ]
    },
    {
      "cell_type": "code",
      "source": [
        "features = ['X_acc', 'Y_acc', 'Z_acc', 'X_gyr', 'Y_gyr', 'Z_gyr']\n",
        "target = ['Label']"
      ],
      "metadata": {
        "id": "lySIVW2LOFTS"
      },
      "execution_count": null,
      "outputs": []
    },
    {
      "cell_type": "code",
      "source": [
        "# Split the data into X (features) and y (target)\n",
        "X = data[features]"
      ],
      "metadata": {
        "id": "300PjkrbYXPl"
      },
      "execution_count": null,
      "outputs": []
    },
    {
      "cell_type": "markdown",
      "source": [
        "# Preprocessing"
      ],
      "metadata": {
        "id": "EdB5w5tJbwUz"
      }
    },
    {
      "cell_type": "markdown",
      "source": [
        "Different model train different\n",
        "VAR model trains with the entire set of time series data from which it uderstands the next step or time instance\n",
        "\n",
        "While LSTM is traditional supervised approach which relies on input and target based training for it modelling"
      ],
      "metadata": {
        "id": "ikrtwB5DfsCM"
      }
    },
    {
      "cell_type": "code",
      "source": [
        "X_train_var, X_test_var = train_test_split(X, test_size=0.2, shuffle=False)"
      ],
      "metadata": {
        "id": "w7wMDGbvcFQC"
      },
      "execution_count": null,
      "outputs": []
    },
    {
      "cell_type": "code",
      "source": [
        "X_train_var.shape"
      ],
      "metadata": {
        "colab": {
          "base_uri": "https://localhost:8080/"
        },
        "id": "699nCg3edlx8",
        "outputId": "776c65fb-cc19-47a5-9f69-ae4bbee2f780"
      },
      "execution_count": null,
      "outputs": [
        {
          "output_type": "execute_result",
          "data": {
            "text/plain": [
              "(1076048, 6)"
            ]
          },
          "metadata": {},
          "execution_count": 13
        }
      ]
    },
    {
      "cell_type": "code",
      "source": [
        "X_test_var.shape"
      ],
      "metadata": {
        "colab": {
          "base_uri": "https://localhost:8080/"
        },
        "id": "c-NEk6HPdnAb",
        "outputId": "e08ec0c8-332d-4ed8-9156-35eaf2c99de4"
      },
      "execution_count": null,
      "outputs": [
        {
          "output_type": "execute_result",
          "data": {
            "text/plain": [
              "(269013, 6)"
            ]
          },
          "metadata": {},
          "execution_count": 14
        }
      ]
    },
    {
      "cell_type": "markdown",
      "source": [
        "# VAR"
      ],
      "metadata": {
        "id": "sd7tiwmnYqmu"
      }
    },
    {
      "cell_type": "code",
      "source": [
        "# Split the data into training and testing sets\n",
        "#X_train, X_test = train_test_split(X, test_size=0.2, shuffle=False)\n",
        "\n",
        "# Create and fit the VAR model\n",
        "model = VAR(endog=X_train_var)\n",
        "model_fit = model.fit()\n",
        "\n",
        "# Make predictions on the test set\n",
        "predictions = model_fit.forecast(model_fit.endog, steps=len(X_test_var))\n",
        "\n",
        "# Print the predictions for the next set of features\n",
        "print(predictions)"
      ],
      "metadata": {
        "colab": {
          "base_uri": "https://localhost:8080/"
        },
        "id": "ym6fJ17LYU5A",
        "outputId": "e864b77c-5003-4656-bcc2-28cafc52fda6"
      },
      "execution_count": null,
      "outputs": [
        {
          "output_type": "stream",
          "name": "stdout",
          "text": [
            "[[ 5.21313665e-01  9.88275740e+00  3.91744502e+00 -1.96308387e+00\n",
            "  -3.49038737e-01  3.16186741e-01]\n",
            " [ 1.94583459e-01  1.02640851e+01  4.49642167e+00 -2.01447816e+00\n",
            "  -4.17023723e-01  2.34077474e-01]\n",
            " [ 2.32078928e-02  1.04516037e+01  4.94486037e+00 -1.97419923e+00\n",
            "  -4.06371190e-01  1.82135369e-01]\n",
            " ...\n",
            " [ 4.53515029e-01  8.06197219e+00  6.04390508e+00  4.45861303e-03\n",
            "   1.83890757e-02 -6.37301843e-02]\n",
            " [ 4.53515029e-01  8.06197219e+00  6.04390508e+00  4.45861303e-03\n",
            "   1.83890757e-02 -6.37301843e-02]\n",
            " [ 4.53515029e-01  8.06197219e+00  6.04390508e+00  4.45861303e-03\n",
            "   1.83890757e-02 -6.37301843e-02]]\n"
          ]
        }
      ]
    },
    {
      "cell_type": "code",
      "source": [
        "# evaluate forecasts\n",
        "rmse_var = sqrt(mean_squared_error(X_test_var, predictions))\n",
        "print('Test RMSE: %.3f' % rmse_var)"
      ],
      "metadata": {
        "colab": {
          "base_uri": "https://localhost:8080/"
        },
        "id": "OI4xQBpAccZD",
        "outputId": "44a38283-0364-4323-e15d-e23385475ab4"
      },
      "execution_count": null,
      "outputs": [
        {
          "output_type": "stream",
          "name": "stdout",
          "text": [
            "Test RMSE: 4.951\n"
          ]
        }
      ]
    },
    {
      "cell_type": "markdown",
      "source": [
        "# LSTM"
      ],
      "metadata": {
        "id": "aCDQpp7yZoUX"
      }
    },
    {
      "cell_type": "code",
      "source": [
        "# Split the data into X (features) and y (target)\n",
        "X = data[features].values\n",
        "\n",
        "# Normalize the data\n",
        "scaler = MinMaxScaler()\n",
        "X_scaled = scaler.fit_transform(X)\n",
        "\n",
        "# Define the input sequence length for the LSTM model\n",
        "input_length = 10\n",
        "\n",
        "# Prepare the data for LSTM\n",
        "X_lstm = []\n",
        "y_lstm = []\n",
        "for i in range(input_length, len(X_scaled)):\n",
        "    X_lstm.append(X_scaled[i-input_length:i])\n",
        "    y_lstm.append(X_scaled[i])\n",
        "X_lstm = np.array(X_lstm)\n",
        "y_lstm = np.array(y_lstm)\n",
        "\n",
        "# Split the data into training and testing sets\n",
        "X_train, X_test, y_train, y_test = train_test_split(X_lstm, y_lstm, test_size=0.2, shuffle=False)\n",
        "\n",
        "'''# Build the LSTM model\n",
        "model = Sequential()\n",
        "model.add(LSTM(64, input_shape=(input_length, X_train.shape[2]), return_sequences=True))\n",
        "model.add(LSTM(32))\n",
        "model.add(Dense(X_train.shape[2]))\n",
        "\n",
        "# Compile the model\n",
        "model.compile(loss='mean_squared_error', optimizer='adam')'''\n",
        "\n"
      ],
      "metadata": {
        "id": "Fu74ErQWZOaB",
        "colab": {
          "base_uri": "https://localhost:8080/",
          "height": 53
        },
        "outputId": "3e0ad4bc-bb7e-4600-acf6-02d8fc8c6c47"
      },
      "execution_count": null,
      "outputs": [
        {
          "output_type": "execute_result",
          "data": {
            "text/plain": [
              "\"# Build the LSTM model\\nmodel = Sequential()\\nmodel.add(LSTM(64, input_shape=(input_length, X_train.shape[2]), return_sequences=True))\\nmodel.add(LSTM(32))\\nmodel.add(Dense(X_train.shape[2]))\\n\\n# Compile the model\\nmodel.compile(loss='mean_squared_error', optimizer='adam')\""
            ],
            "application/vnd.google.colaboratory.intrinsic+json": {
              "type": "string"
            }
          },
          "metadata": {},
          "execution_count": 17
        }
      ]
    },
    {
      "cell_type": "code",
      "source": [
        "X_train.shape"
      ],
      "metadata": {
        "colab": {
          "base_uri": "https://localhost:8080/"
        },
        "id": "t4XsNxoLurVr",
        "outputId": "37bf2aa7-e9ad-4284-a330-890bc72d1a37"
      },
      "execution_count": null,
      "outputs": [
        {
          "output_type": "execute_result",
          "data": {
            "text/plain": [
              "(1076040, 10, 6)"
            ]
          },
          "metadata": {},
          "execution_count": 18
        }
      ]
    },
    {
      "cell_type": "code",
      "source": [
        "from tensorflow.keras.layers import LSTM, Dense, Dropout"
      ],
      "metadata": {
        "id": "KWS3sUy4ulJV"
      },
      "execution_count": null,
      "outputs": []
    },
    {
      "cell_type": "code",
      "source": [
        "model = Sequential()\n",
        "model.add(LSTM(64, input_shape=(input_length, X_train.shape[2]), return_sequences=True))\n",
        "model.add(Dropout(0.2))\n",
        "model.add(LSTM(32))\n",
        "model.add(Dropout(0.2))\n",
        "model.add(Dense(X_train.shape[2]))\n",
        "model.compile(optimizer='adam', loss='mse')\n",
        "\n",
        "#model.fit(X_train, X_train, epochs=100, batch_size=128, validation_data=(X_test, X_test))\n"
      ],
      "metadata": {
        "id": "Wg_nWfOTuZcL"
      },
      "execution_count": null,
      "outputs": []
    },
    {
      "cell_type": "code",
      "source": [
        "model.summary()"
      ],
      "metadata": {
        "colab": {
          "base_uri": "https://localhost:8080/"
        },
        "id": "FZqBFo2khGmN",
        "outputId": "cfab89e1-aa67-49fe-a659-d63195f4cd04"
      },
      "execution_count": null,
      "outputs": [
        {
          "output_type": "stream",
          "name": "stdout",
          "text": [
            "Model: \"sequential_6\"\n",
            "_________________________________________________________________\n",
            " Layer (type)                Output Shape              Param #   \n",
            "=================================================================\n",
            " lstm_2 (LSTM)               (None, 10, 64)            18176     \n",
            "                                                                 \n",
            " dropout (Dropout)           (None, 10, 64)            0         \n",
            "                                                                 \n",
            " lstm_3 (LSTM)               (None, 32)                12416     \n",
            "                                                                 \n",
            " dropout_1 (Dropout)         (None, 32)                0         \n",
            "                                                                 \n",
            " dense_4 (Dense)             (None, 6)                 198       \n",
            "                                                                 \n",
            "=================================================================\n",
            "Total params: 30,790\n",
            "Trainable params: 30,790\n",
            "Non-trainable params: 0\n",
            "_________________________________________________________________\n"
          ]
        }
      ]
    },
    {
      "cell_type": "code",
      "source": [
        "X_lstm[0].shape"
      ],
      "metadata": {
        "colab": {
          "base_uri": "https://localhost:8080/"
        },
        "id": "1ZSZnfhUav5b",
        "outputId": "f2f7beb0-1ced-428b-a604-32f7ddcc5726"
      },
      "execution_count": null,
      "outputs": [
        {
          "output_type": "execute_result",
          "data": {
            "text/plain": [
              "(10, 6)"
            ]
          },
          "metadata": {},
          "execution_count": 40
        }
      ]
    },
    {
      "cell_type": "code",
      "source": [
        "# Train the model\n",
        "model.fit(X_train, y_train, epochs=10, batch_size=32, validation_split=0.2)"
      ],
      "metadata": {
        "colab": {
          "base_uri": "https://localhost:8080/"
        },
        "id": "0ns3zz4gZQSQ",
        "outputId": "d5d6e55a-14a1-41d2-9bda-87fb947f2403"
      },
      "execution_count": null,
      "outputs": [
        {
          "output_type": "stream",
          "name": "stdout",
          "text": [
            "Epoch 1/10\n",
            "26901/26901 [==============================] - 167s 6ms/step - loss: 0.0023 - val_loss: 0.0014\n",
            "Epoch 2/10\n",
            "26901/26901 [==============================] - 160s 6ms/step - loss: 0.0013 - val_loss: 0.0013\n",
            "Epoch 3/10\n",
            "26901/26901 [==============================] - 157s 6ms/step - loss: 0.0012 - val_loss: 0.0012\n",
            "Epoch 4/10\n",
            "26901/26901 [==============================] - 156s 6ms/step - loss: 0.0011 - val_loss: 0.0012\n",
            "Epoch 5/10\n",
            "26901/26901 [==============================] - 157s 6ms/step - loss: 0.0011 - val_loss: 0.0012\n",
            "Epoch 6/10\n",
            "26901/26901 [==============================] - 157s 6ms/step - loss: 0.0011 - val_loss: 0.0012\n",
            "Epoch 7/10\n",
            "26901/26901 [==============================] - 156s 6ms/step - loss: 0.0010 - val_loss: 0.0012\n",
            "Epoch 8/10\n",
            "26901/26901 [==============================] - 157s 6ms/step - loss: 0.0010 - val_loss: 0.0011\n",
            "Epoch 9/10\n",
            "26901/26901 [==============================] - 155s 6ms/step - loss: 0.0010 - val_loss: 0.0012\n",
            "Epoch 10/10\n",
            "26901/26901 [==============================] - 157s 6ms/step - loss: 9.9984e-04 - val_loss: 0.0011\n"
          ]
        },
        {
          "output_type": "execute_result",
          "data": {
            "text/plain": [
              "<keras.callbacks.History at 0x7fa19b2f98d0>"
            ]
          },
          "metadata": {},
          "execution_count": 71
        }
      ]
    },
    {
      "cell_type": "markdown",
      "source": [
        "# Saving Model"
      ],
      "metadata": {
        "id": "TkF1CX_CYcGI"
      }
    },
    {
      "cell_type": "code",
      "source": [
        "# Calling `save('my_model')` creates a SavedModel folder `my_model`.\n",
        "# model.save(\"/content/drive/MyDrive/Startup/LSTM\")\n",
        "import keras\n",
        "# It can be used to reconstruct the model identically.\n",
        "model = keras.models.load_model(\"/content/drive/MyDrive/Startup/LSTM\")"
      ],
      "metadata": {
        "id": "6oJvWK_yXec-"
      },
      "execution_count": null,
      "outputs": []
    },
    {
      "cell_type": "markdown",
      "source": [
        "# LSTM Evalution"
      ],
      "metadata": {
        "id": "rpS0UXqyYeU2"
      }
    },
    {
      "cell_type": "code",
      "source": [
        "# Evaluate the model\n",
        "loss = model.evaluate(X_test, y_test)\n",
        "\n",
        "# Make predictions\n",
        "predictions = model.predict(X_test)\n",
        "\n",
        "# Denormalize the predictions\n",
        "predictions = scaler.inverse_transform(predictions)\n",
        "\n",
        "# Print predicted and actual values\n",
        "'''for i in range(len(predictions)):\n",
        "    print('predicted=%s, expected=%s' % (predictions[i], scaler.inverse_transform(y_test[i].reshape(1, -1))))\n",
        "'''"
      ],
      "metadata": {
        "id": "agN9drtAZg2M",
        "colab": {
          "base_uri": "https://localhost:8080/",
          "height": 88
        },
        "outputId": "1dfca20f-3fb5-4abe-f64d-e9ad18666130"
      },
      "execution_count": null,
      "outputs": [
        {
          "output_type": "stream",
          "name": "stdout",
          "text": [
            "8407/8407 [==============================] - 39s 4ms/step - loss: 0.0017\n",
            "8407/8407 [==============================] - 25s 3ms/step\n"
          ]
        },
        {
          "output_type": "execute_result",
          "data": {
            "text/plain": [
              "\"for i in range(len(predictions)):\\n    print('predicted=%s, expected=%s' % (predictions[i], scaler.inverse_transform(y_test[i].reshape(1, -1))))\\n\""
            ],
            "application/vnd.google.colaboratory.intrinsic+json": {
              "type": "string"
            }
          },
          "metadata": {},
          "execution_count": 22
        }
      ]
    },
    {
      "cell_type": "code",
      "source": [
        "loss"
      ],
      "metadata": {
        "colab": {
          "base_uri": "https://localhost:8080/"
        },
        "id": "ADN3mddBhKgo",
        "outputId": "c65bd2d8-314b-45fd-c8ea-2fa4925cc1dd"
      },
      "execution_count": null,
      "outputs": [
        {
          "output_type": "execute_result",
          "data": {
            "text/plain": [
              "0.0017219040310010314"
            ]
          },
          "metadata": {},
          "execution_count": 23
        }
      ]
    },
    {
      "cell_type": "code",
      "source": [
        "predictions[0]"
      ],
      "metadata": {
        "colab": {
          "base_uri": "https://localhost:8080/"
        },
        "id": "0HRmOlyyVDFn",
        "outputId": "36281073-cf1f-4759-a761-9151fcbdf1d3"
      },
      "execution_count": null,
      "outputs": [
        {
          "output_type": "execute_result",
          "data": {
            "text/plain": [
              "array([ 0.53398675, 12.463691  ,  1.8476739 , -2.9463582 , -1.0433022 ,\n",
              "        0.67017925], dtype=float32)"
            ]
          },
          "metadata": {},
          "execution_count": 24
        }
      ]
    },
    {
      "cell_type": "code",
      "source": [
        "predictions.shape"
      ],
      "metadata": {
        "colab": {
          "base_uri": "https://localhost:8080/"
        },
        "id": "eap4Dz8-f8vZ",
        "outputId": "963f8b2e-82f7-428e-e4be-3b26b379fe09"
      },
      "execution_count": null,
      "outputs": [
        {
          "output_type": "execute_result",
          "data": {
            "text/plain": [
              "(269011, 6)"
            ]
          },
          "metadata": {},
          "execution_count": 29
        }
      ]
    },
    {
      "cell_type": "code",
      "source": [
        "test=[]\n",
        "for i in range(len(predictions)):\n",
        "    test.append(scaler.inverse_transform(y_test[i].reshape(1, -1)))\n"
      ],
      "metadata": {
        "id": "nqKMNvlgVZsT"
      },
      "execution_count": null,
      "outputs": []
    },
    {
      "cell_type": "code",
      "source": [
        "#test=scaler.inverse_transform(y_test[0].reshape(1, -1))"
      ],
      "metadata": {
        "id": "vSK7lYTwVB9A"
      },
      "execution_count": null,
      "outputs": []
    },
    {
      "cell_type": "code",
      "source": [
        "test=np.array(test)\n",
        "test=test.reshape(269011, 6)"
      ],
      "metadata": {
        "id": "g2bKzQksYnhh"
      },
      "execution_count": null,
      "outputs": []
    },
    {
      "cell_type": "code",
      "source": [
        "# evaluate forecasts\n",
        "rmse = sqrt(mean_squared_error(test, predictions))\n",
        "print('Test RMSE: %.3f' % rmse)"
      ],
      "metadata": {
        "colab": {
          "base_uri": "https://localhost:8080/"
        },
        "id": "VXhkJht9UVj9",
        "outputId": "3084e5cd-b6d3-4db5-9ccf-aca83368444c"
      },
      "execution_count": null,
      "outputs": [
        {
          "output_type": "stream",
          "name": "stdout",
          "text": [
            "Test RMSE: 2.861\n"
          ]
        }
      ]
    },
    {
      "cell_type": "code",
      "source": [
        "#rmse_cnn, rmse, rmse_var\n",
        "import pandas as pd\n",
        "\n",
        "data = [\n",
        "    ['VAR', rmse_var],\n",
        "    ['LSTM', rmse],\n",
        "    ['CNN', rmse_cnn],\n",
        "]\n",
        "\n",
        "df = pd.DataFrame(data, columns=['Model', 'RMSE'])\n"
      ],
      "metadata": {
        "id": "9bYQIzci-GlE"
      },
      "execution_count": null,
      "outputs": []
    },
    {
      "cell_type": "code",
      "source": [
        "df"
      ],
      "metadata": {
        "colab": {
          "base_uri": "https://localhost:8080/",
          "height": 143
        },
        "id": "sGEYyZtK-iq1",
        "outputId": "5248b91a-488c-4e9b-8e4c-5250339184ec"
      },
      "execution_count": null,
      "outputs": [
        {
          "output_type": "execute_result",
          "data": {
            "text/plain": [
              "  Model      RMSE\n",
              "0   VAR  4.950549\n",
              "1  LSTM  2.861388\n",
              "2   CNN  3.178774"
            ],
            "text/html": [
              "\n",
              "  <div id=\"df-86b8bbbe-7b8f-4b45-8a49-08c87ec1e09c\">\n",
              "    <div class=\"colab-df-container\">\n",
              "      <div>\n",
              "<style scoped>\n",
              "    .dataframe tbody tr th:only-of-type {\n",
              "        vertical-align: middle;\n",
              "    }\n",
              "\n",
              "    .dataframe tbody tr th {\n",
              "        vertical-align: top;\n",
              "    }\n",
              "\n",
              "    .dataframe thead th {\n",
              "        text-align: right;\n",
              "    }\n",
              "</style>\n",
              "<table border=\"1\" class=\"dataframe\">\n",
              "  <thead>\n",
              "    <tr style=\"text-align: right;\">\n",
              "      <th></th>\n",
              "      <th>Model</th>\n",
              "      <th>RMSE</th>\n",
              "    </tr>\n",
              "  </thead>\n",
              "  <tbody>\n",
              "    <tr>\n",
              "      <th>0</th>\n",
              "      <td>VAR</td>\n",
              "      <td>4.950549</td>\n",
              "    </tr>\n",
              "    <tr>\n",
              "      <th>1</th>\n",
              "      <td>LSTM</td>\n",
              "      <td>2.861388</td>\n",
              "    </tr>\n",
              "    <tr>\n",
              "      <th>2</th>\n",
              "      <td>CNN</td>\n",
              "      <td>3.178774</td>\n",
              "    </tr>\n",
              "  </tbody>\n",
              "</table>\n",
              "</div>\n",
              "      <button class=\"colab-df-convert\" onclick=\"convertToInteractive('df-86b8bbbe-7b8f-4b45-8a49-08c87ec1e09c')\"\n",
              "              title=\"Convert this dataframe to an interactive table.\"\n",
              "              style=\"display:none;\">\n",
              "        \n",
              "  <svg xmlns=\"http://www.w3.org/2000/svg\" height=\"24px\"viewBox=\"0 0 24 24\"\n",
              "       width=\"24px\">\n",
              "    <path d=\"M0 0h24v24H0V0z\" fill=\"none\"/>\n",
              "    <path d=\"M18.56 5.44l.94 2.06.94-2.06 2.06-.94-2.06-.94-.94-2.06-.94 2.06-2.06.94zm-11 1L8.5 8.5l.94-2.06 2.06-.94-2.06-.94L8.5 2.5l-.94 2.06-2.06.94zm10 10l.94 2.06.94-2.06 2.06-.94-2.06-.94-.94-2.06-.94 2.06-2.06.94z\"/><path d=\"M17.41 7.96l-1.37-1.37c-.4-.4-.92-.59-1.43-.59-.52 0-1.04.2-1.43.59L10.3 9.45l-7.72 7.72c-.78.78-.78 2.05 0 2.83L4 21.41c.39.39.9.59 1.41.59.51 0 1.02-.2 1.41-.59l7.78-7.78 2.81-2.81c.8-.78.8-2.07 0-2.86zM5.41 20L4 18.59l7.72-7.72 1.47 1.35L5.41 20z\"/>\n",
              "  </svg>\n",
              "      </button>\n",
              "      \n",
              "  <style>\n",
              "    .colab-df-container {\n",
              "      display:flex;\n",
              "      flex-wrap:wrap;\n",
              "      gap: 12px;\n",
              "    }\n",
              "\n",
              "    .colab-df-convert {\n",
              "      background-color: #E8F0FE;\n",
              "      border: none;\n",
              "      border-radius: 50%;\n",
              "      cursor: pointer;\n",
              "      display: none;\n",
              "      fill: #1967D2;\n",
              "      height: 32px;\n",
              "      padding: 0 0 0 0;\n",
              "      width: 32px;\n",
              "    }\n",
              "\n",
              "    .colab-df-convert:hover {\n",
              "      background-color: #E2EBFA;\n",
              "      box-shadow: 0px 1px 2px rgba(60, 64, 67, 0.3), 0px 1px 3px 1px rgba(60, 64, 67, 0.15);\n",
              "      fill: #174EA6;\n",
              "    }\n",
              "\n",
              "    [theme=dark] .colab-df-convert {\n",
              "      background-color: #3B4455;\n",
              "      fill: #D2E3FC;\n",
              "    }\n",
              "\n",
              "    [theme=dark] .colab-df-convert:hover {\n",
              "      background-color: #434B5C;\n",
              "      box-shadow: 0px 1px 3px 1px rgba(0, 0, 0, 0.15);\n",
              "      filter: drop-shadow(0px 1px 2px rgba(0, 0, 0, 0.3));\n",
              "      fill: #FFFFFF;\n",
              "    }\n",
              "  </style>\n",
              "\n",
              "      <script>\n",
              "        const buttonEl =\n",
              "          document.querySelector('#df-86b8bbbe-7b8f-4b45-8a49-08c87ec1e09c button.colab-df-convert');\n",
              "        buttonEl.style.display =\n",
              "          google.colab.kernel.accessAllowed ? 'block' : 'none';\n",
              "\n",
              "        async function convertToInteractive(key) {\n",
              "          const element = document.querySelector('#df-86b8bbbe-7b8f-4b45-8a49-08c87ec1e09c');\n",
              "          const dataTable =\n",
              "            await google.colab.kernel.invokeFunction('convertToInteractive',\n",
              "                                                     [key], {});\n",
              "          if (!dataTable) return;\n",
              "\n",
              "          const docLinkHtml = 'Like what you see? Visit the ' +\n",
              "            '<a target=\"_blank\" href=https://colab.research.google.com/notebooks/data_table.ipynb>data table notebook</a>'\n",
              "            + ' to learn more about interactive tables.';\n",
              "          element.innerHTML = '';\n",
              "          dataTable['output_type'] = 'display_data';\n",
              "          await google.colab.output.renderOutput(dataTable, element);\n",
              "          const docLink = document.createElement('div');\n",
              "          docLink.innerHTML = docLinkHtml;\n",
              "          element.appendChild(docLink);\n",
              "        }\n",
              "      </script>\n",
              "    </div>\n",
              "  </div>\n",
              "  "
            ]
          },
          "metadata": {},
          "execution_count": 34
        }
      ]
    },
    {
      "cell_type": "markdown",
      "source": [
        "# Exponontial Smoothing"
      ],
      "metadata": {
        "id": "W-8l7VAZgSzZ"
      }
    },
    {
      "cell_type": "code",
      "source": [
        "import numpy as np\n",
        "from statsmodels.tsa.holtwinters import ExponentialSmoothing\n",
        "\n",
        "#dt=data.iloc[:,:-1]\n",
        "# Reshape the data to have 1 dimension\n",
        "dt = data.iloc[:,:-1].values.reshape(-1)\n",
        "\n",
        "# Create an exponential smoothing model\n",
        "model = ExponentialSmoothing(dt, trend='additive', seasonal='additive', seasonal_periods=7)\n",
        "\n",
        "# Fit the model to the data\n",
        "model.fit()\n",
        "\n",
        "# Make predictions\n",
        "predictions = model.predict(start=N, end=N + rows - 1)\n",
        "\n",
        "# Plot the data and predictions\n",
        "plt.plot(data, label='Data')\n",
        "plt.plot(predictions, label='Predictions')\n",
        "plt.legend()\n",
        "plt.show()"
      ],
      "metadata": {
        "id": "4lL4M1KpgTrt"
      },
      "execution_count": null,
      "outputs": []
    },
    {
      "cell_type": "markdown",
      "source": [
        "# CNN"
      ],
      "metadata": {
        "id": "ByNoq9QXln4n"
      }
    },
    {
      "cell_type": "code",
      "source": [
        "import matplotlib.pyplot as plt\n",
        "import numpy as np\n",
        "from tensorflow.keras.models import Sequential\n",
        "from tensorflow.keras.layers import Dense, Conv1D, Flatten"
      ],
      "metadata": {
        "id": "cIy0nexOlwjp"
      },
      "execution_count": null,
      "outputs": []
    },
    {
      "cell_type": "code",
      "source": [
        "# Reshape the data to have 3 dimensions\n",
        "#data = data.reshape(-1, 1, 7)\n",
        "\n",
        "# Create the model\n",
        "cnn = Sequential()\n",
        "cnn.add(Conv1D(32, 3, activation='relu', input_shape=(input_length, X_train.shape[2])))\n",
        "cnn.add(Flatten())\n",
        "cnn.add(Dense(X_train.shape[2], activation='linear'))\n",
        "\n",
        "# Compile the model\n",
        "cnn.compile(optimizer='adam', loss='mse')\n",
        "\n",
        "# Fit the model to the data\n",
        "cnn.fit(X_train, y_train, epochs=10)\n"
      ],
      "metadata": {
        "colab": {
          "base_uri": "https://localhost:8080/"
        },
        "id": "M3Mn-2F0lowi",
        "outputId": "38ee07af-f7c2-418a-b210-507394b05df1"
      },
      "execution_count": null,
      "outputs": [
        {
          "output_type": "stream",
          "name": "stdout",
          "text": [
            "Epoch 1/10\n",
            "33627/33627 [==============================] - 142s 4ms/step - loss: 0.0018\n",
            "Epoch 2/10\n",
            "33627/33627 [==============================] - 113s 3ms/step - loss: 0.0014\n",
            "Epoch 3/10\n",
            "33627/33627 [==============================] - 104s 3ms/step - loss: 0.0013\n",
            "Epoch 4/10\n",
            "33627/33627 [==============================] - 102s 3ms/step - loss: 0.0013\n",
            "Epoch 5/10\n",
            "33627/33627 [==============================] - 101s 3ms/step - loss: 0.0013\n",
            "Epoch 6/10\n",
            "33627/33627 [==============================] - 103s 3ms/step - loss: 0.0013\n",
            "Epoch 7/10\n",
            "33627/33627 [==============================] - 100s 3ms/step - loss: 0.0013\n",
            "Epoch 8/10\n",
            "33627/33627 [==============================] - 102s 3ms/step - loss: 0.0012\n",
            "Epoch 9/10\n",
            "33627/33627 [==============================] - 101s 3ms/step - loss: 0.0012\n",
            "Epoch 10/10\n",
            "33627/33627 [==============================] - 101s 3ms/step - loss: 0.0012\n"
          ]
        },
        {
          "output_type": "execute_result",
          "data": {
            "text/plain": [
              "<keras.callbacks.History at 0x7fa19bfa22f0>"
            ]
          },
          "metadata": {},
          "execution_count": 61
        }
      ]
    },
    {
      "cell_type": "code",
      "source": [
        "import keras\n",
        "#cnn.save(\"/content/drive/MyDrive/Startup/CNN\")\n",
        "\n",
        "# It can be used to reconstruct the model identically.\n",
        "cnn = keras.models.load_model(\"/content/drive/MyDrive/Startup/CNN\")"
      ],
      "metadata": {
        "id": "mTAZp4ZgmvP1"
      },
      "execution_count": null,
      "outputs": []
    },
    {
      "cell_type": "code",
      "source": [
        "# Make predictions\n",
        "#predictions = cnn.predict(X_test)\n",
        "\n",
        "# Evaluate the model\n",
        "loss_cnn = cnn.evaluate(X_test, y_test)\n",
        "\n",
        "# Make predictions\n",
        "predictions_cnn = cnn.predict(X_test)\n",
        "\n",
        "# Denormalize the predictions\n",
        "predictions_cnn = scaler.inverse_transform(predictions_cnn)\n"
      ],
      "metadata": {
        "colab": {
          "base_uri": "https://localhost:8080/"
        },
        "id": "v6aPCxSxmi5Q",
        "outputId": "0c789827-8730-4dbe-8d8f-bf4b1f1b7dd3"
      },
      "execution_count": null,
      "outputs": [
        {
          "output_type": "stream",
          "name": "stdout",
          "text": [
            "8407/8407 [==============================] - 24s 2ms/step - loss: 0.0021\n",
            "8407/8407 [==============================] - 14s 2ms/step\n"
          ]
        }
      ]
    },
    {
      "cell_type": "code",
      "source": [
        "# evaluate forecasts\n",
        "rmse_cnn = sqrt(mean_squared_error(test, predictions_cnn))\n",
        "print('Test RMSE for CNN: %.3f' % rmse_cnn)"
      ],
      "metadata": {
        "colab": {
          "base_uri": "https://localhost:8080/"
        },
        "id": "cNpowVcMnGXc",
        "outputId": "c8b0c341-e226-4e5a-e0cf-3c25ac4589f3"
      },
      "execution_count": null,
      "outputs": [
        {
          "output_type": "stream",
          "name": "stdout",
          "text": [
            "Test RMSE for CNN: 3.179\n"
          ]
        }
      ]
    }
  ]
}