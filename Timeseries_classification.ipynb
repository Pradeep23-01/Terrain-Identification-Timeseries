{
  "nbformat": 4,
  "nbformat_minor": 0,
  "metadata": {
    "colab": {
      "provenance": [],
      "gpuType": "T4"
    },
    "kernelspec": {
      "name": "python3",
      "display_name": "Python 3"
    },
    "language_info": {
      "name": "python"
    },
    "gpuClass": "standard",
    "accelerator": "GPU"
  },
  "cells": [
    {
      "cell_type": "markdown",
      "source": [
        "# Importing the Required Libraries"
      ],
      "metadata": {
        "id": "vWa2nTzAjkor"
      }
    },
    {
      "cell_type": "code",
      "source": [
        "import numpy as np\n",
        "import pandas as pd\n",
        "import tensorflow as tf\n",
        "\n",
        "import keras\n",
        "from keras.utils import to_categorical\n",
        "from keras.models import Sequential\n",
        "from keras.layers import MaxPooling1D, Flatten, Dense, Activation, Dropout,LSTM, BatchNormalization,Reshape\n",
        "\n",
        "from keras.optimizers import Adam\n",
        "from sklearn.metrics import classification_report"
      ],
      "metadata": {
        "id": "u1cWKHB0GWb6"
      },
      "execution_count": 1,
      "outputs": []
    },
    {
      "cell_type": "markdown",
      "source": [
        "# Preprocessing Data"
      ],
      "metadata": {
        "id": "ST6ho1q7hxao"
      }
    },
    {
      "cell_type": "code",
      "execution_count": null,
      "metadata": {
        "id": "g5DYfxDGTq3Y"
      },
      "outputs": [],
      "source": [
        "# Converting the data into X, Y, Z coordinates to feed as Input\n",
        "def create_dataframe_X(x_file, x_time_file):\n",
        "    # Read X data file and rename columns\n",
        "    df_x = pd.read_csv(x_file, sep=',', names=['X_acc', 'Y_acc', 'Z_acc', 'X_gyr', 'Y_gyr', 'Z_gyr'])\n",
        "\n",
        "    # Read X time file and rename column\n",
        "    df_time = pd.read_csv(x_time_file, names=['Time stamp'])\n",
        "\n",
        "    # Concatenate data frames horizontally\n",
        "    result = pd.concat([df_x, df_time], axis=1)\n",
        "\n",
        "    return result\n",
        "\n",
        "\n",
        "# Concatenating the Labels and time steps for Y label\n",
        "def create_dataframe_Y(y_file, y_time_file):\n",
        "    # Read Y label file and rename column\n",
        "    df_y = pd.read_csv(y_file, names=['Label'])\n",
        "\n",
        "    # Read Y time file and rename column\n",
        "    df_time = pd.read_csv(y_time_file, names=['Time stamp'])\n",
        "\n",
        "    # Concatenate data frames horizontally\n",
        "    result = pd.concat([df_y, df_time], axis=1)\n",
        "\n",
        "    return result\n",
        "\n",
        "def combine_frames(x_frame, y_frame):\n",
        "    # Get labels and concatenate X and Y frames horizontally\n",
        "    labels = y_frame['Label'].tolist()\n",
        "    combined_frame = pd.concat([x_frame, y_frame], axis=1)\n",
        "\n",
        "    # Extract time stamps from X and Y frames\n",
        "    time_stamp_y = y_frame['Time stamp'].tolist()\n",
        "    time_stamp_x = x_frame['Time stamp'].tolist()\n",
        "\n",
        "    # Map labels to time stamps in X frame\n",
        "    labels_for_x = []\n",
        "    count = 0\n",
        "    for i in range(len(time_stamp_y)):\n",
        "        while count < len(time_stamp_x) and time_stamp_x[count] <= time_stamp_y[i]:\n",
        "            labels_for_x.append(labels[i])\n",
        "            count += 1\n",
        "\n",
        "    # Create a new data frame with the mapped labels and concatenate it to the combined frame\n",
        "    label_df = pd.DataFrame(labels_for_x, columns=['Label'])\n",
        "    combined_frame = pd.concat([combined_frame, label_df], axis=1)\n",
        "\n",
        "    # Drop rows with missing values and the Time stamp column\n",
        "    combined_frame = combined_frame.dropna().drop(columns=['Time stamp'])\n",
        "\n",
        "    return combined_frame"
      ]
    },
    {
      "cell_type": "markdown",
      "source": [
        "# Read Dataset"
      ],
      "metadata": {
        "id": "7aCrundqyNrd"
      }
    },
    {
      "cell_type": "code",
      "source": [
        "data=pd.read_csv('/content/drive/MyDrive/NeuralNets/Combined_data.csv')"
      ],
      "metadata": {
        "id": "TOhg1Qs5USFf"
      },
      "execution_count": 2,
      "outputs": []
    },
    {
      "cell_type": "code",
      "source": [
        "data.head()"
      ],
      "metadata": {
        "colab": {
          "base_uri": "https://localhost:8080/",
          "height": 206
        },
        "id": "yGDEnq3dUU99",
        "outputId": "cd5559c7-d13b-46ee-9d3d-196d3c1a2c11"
      },
      "execution_count": null,
      "outputs": [
        {
          "output_type": "execute_result",
          "data": {
            "text/plain": [
              "      X_acc     Y_acc     Z_acc     X_gyr     Y_gyr     Z_gyr  Label\n",
              "0  4.435275  8.196063  2.974488  0.014215 -0.039157 -0.016744    0.0\n",
              "1  4.186920  8.344455  2.908057  0.005771 -0.004480 -0.003345    0.0\n",
              "2  4.544637  8.408659  2.890000  0.007967  0.022412  0.001159    0.0\n",
              "3  4.849308  8.411614  2.900692  0.027778 -0.010670 -0.014223    0.0\n",
              "4  4.509190  8.118649  2.847298  0.021577 -0.045498 -0.021111    0.0"
            ],
            "text/html": [
              "\n",
              "  <div id=\"df-9a87211b-ebf4-4730-ac22-1e4d2a05261f\">\n",
              "    <div class=\"colab-df-container\">\n",
              "      <div>\n",
              "<style scoped>\n",
              "    .dataframe tbody tr th:only-of-type {\n",
              "        vertical-align: middle;\n",
              "    }\n",
              "\n",
              "    .dataframe tbody tr th {\n",
              "        vertical-align: top;\n",
              "    }\n",
              "\n",
              "    .dataframe thead th {\n",
              "        text-align: right;\n",
              "    }\n",
              "</style>\n",
              "<table border=\"1\" class=\"dataframe\">\n",
              "  <thead>\n",
              "    <tr style=\"text-align: right;\">\n",
              "      <th></th>\n",
              "      <th>X_acc</th>\n",
              "      <th>Y_acc</th>\n",
              "      <th>Z_acc</th>\n",
              "      <th>X_gyr</th>\n",
              "      <th>Y_gyr</th>\n",
              "      <th>Z_gyr</th>\n",
              "      <th>Label</th>\n",
              "    </tr>\n",
              "  </thead>\n",
              "  <tbody>\n",
              "    <tr>\n",
              "      <th>0</th>\n",
              "      <td>4.435275</td>\n",
              "      <td>8.196063</td>\n",
              "      <td>2.974488</td>\n",
              "      <td>0.014215</td>\n",
              "      <td>-0.039157</td>\n",
              "      <td>-0.016744</td>\n",
              "      <td>0.0</td>\n",
              "    </tr>\n",
              "    <tr>\n",
              "      <th>1</th>\n",
              "      <td>4.186920</td>\n",
              "      <td>8.344455</td>\n",
              "      <td>2.908057</td>\n",
              "      <td>0.005771</td>\n",
              "      <td>-0.004480</td>\n",
              "      <td>-0.003345</td>\n",
              "      <td>0.0</td>\n",
              "    </tr>\n",
              "    <tr>\n",
              "      <th>2</th>\n",
              "      <td>4.544637</td>\n",
              "      <td>8.408659</td>\n",
              "      <td>2.890000</td>\n",
              "      <td>0.007967</td>\n",
              "      <td>0.022412</td>\n",
              "      <td>0.001159</td>\n",
              "      <td>0.0</td>\n",
              "    </tr>\n",
              "    <tr>\n",
              "      <th>3</th>\n",
              "      <td>4.849308</td>\n",
              "      <td>8.411614</td>\n",
              "      <td>2.900692</td>\n",
              "      <td>0.027778</td>\n",
              "      <td>-0.010670</td>\n",
              "      <td>-0.014223</td>\n",
              "      <td>0.0</td>\n",
              "    </tr>\n",
              "    <tr>\n",
              "      <th>4</th>\n",
              "      <td>4.509190</td>\n",
              "      <td>8.118649</td>\n",
              "      <td>2.847298</td>\n",
              "      <td>0.021577</td>\n",
              "      <td>-0.045498</td>\n",
              "      <td>-0.021111</td>\n",
              "      <td>0.0</td>\n",
              "    </tr>\n",
              "  </tbody>\n",
              "</table>\n",
              "</div>\n",
              "      <button class=\"colab-df-convert\" onclick=\"convertToInteractive('df-9a87211b-ebf4-4730-ac22-1e4d2a05261f')\"\n",
              "              title=\"Convert this dataframe to an interactive table.\"\n",
              "              style=\"display:none;\">\n",
              "        \n",
              "  <svg xmlns=\"http://www.w3.org/2000/svg\" height=\"24px\"viewBox=\"0 0 24 24\"\n",
              "       width=\"24px\">\n",
              "    <path d=\"M0 0h24v24H0V0z\" fill=\"none\"/>\n",
              "    <path d=\"M18.56 5.44l.94 2.06.94-2.06 2.06-.94-2.06-.94-.94-2.06-.94 2.06-2.06.94zm-11 1L8.5 8.5l.94-2.06 2.06-.94-2.06-.94L8.5 2.5l-.94 2.06-2.06.94zm10 10l.94 2.06.94-2.06 2.06-.94-2.06-.94-.94-2.06-.94 2.06-2.06.94z\"/><path d=\"M17.41 7.96l-1.37-1.37c-.4-.4-.92-.59-1.43-.59-.52 0-1.04.2-1.43.59L10.3 9.45l-7.72 7.72c-.78.78-.78 2.05 0 2.83L4 21.41c.39.39.9.59 1.41.59.51 0 1.02-.2 1.41-.59l7.78-7.78 2.81-2.81c.8-.78.8-2.07 0-2.86zM5.41 20L4 18.59l7.72-7.72 1.47 1.35L5.41 20z\"/>\n",
              "  </svg>\n",
              "      </button>\n",
              "      \n",
              "  <style>\n",
              "    .colab-df-container {\n",
              "      display:flex;\n",
              "      flex-wrap:wrap;\n",
              "      gap: 12px;\n",
              "    }\n",
              "\n",
              "    .colab-df-convert {\n",
              "      background-color: #E8F0FE;\n",
              "      border: none;\n",
              "      border-radius: 50%;\n",
              "      cursor: pointer;\n",
              "      display: none;\n",
              "      fill: #1967D2;\n",
              "      height: 32px;\n",
              "      padding: 0 0 0 0;\n",
              "      width: 32px;\n",
              "    }\n",
              "\n",
              "    .colab-df-convert:hover {\n",
              "      background-color: #E2EBFA;\n",
              "      box-shadow: 0px 1px 2px rgba(60, 64, 67, 0.3), 0px 1px 3px 1px rgba(60, 64, 67, 0.15);\n",
              "      fill: #174EA6;\n",
              "    }\n",
              "\n",
              "    [theme=dark] .colab-df-convert {\n",
              "      background-color: #3B4455;\n",
              "      fill: #D2E3FC;\n",
              "    }\n",
              "\n",
              "    [theme=dark] .colab-df-convert:hover {\n",
              "      background-color: #434B5C;\n",
              "      box-shadow: 0px 1px 3px 1px rgba(0, 0, 0, 0.15);\n",
              "      filter: drop-shadow(0px 1px 2px rgba(0, 0, 0, 0.3));\n",
              "      fill: #FFFFFF;\n",
              "    }\n",
              "  </style>\n",
              "\n",
              "      <script>\n",
              "        const buttonEl =\n",
              "          document.querySelector('#df-9a87211b-ebf4-4730-ac22-1e4d2a05261f button.colab-df-convert');\n",
              "        buttonEl.style.display =\n",
              "          google.colab.kernel.accessAllowed ? 'block' : 'none';\n",
              "\n",
              "        async function convertToInteractive(key) {\n",
              "          const element = document.querySelector('#df-9a87211b-ebf4-4730-ac22-1e4d2a05261f');\n",
              "          const dataTable =\n",
              "            await google.colab.kernel.invokeFunction('convertToInteractive',\n",
              "                                                     [key], {});\n",
              "          if (!dataTable) return;\n",
              "\n",
              "          const docLinkHtml = 'Like what you see? Visit the ' +\n",
              "            '<a target=\"_blank\" href=https://colab.research.google.com/notebooks/data_table.ipynb>data table notebook</a>'\n",
              "            + ' to learn more about interactive tables.';\n",
              "          element.innerHTML = '';\n",
              "          dataTable['output_type'] = 'display_data';\n",
              "          await google.colab.output.renderOutput(dataTable, element);\n",
              "          const docLink = document.createElement('div');\n",
              "          docLink.innerHTML = docLinkHtml;\n",
              "          element.appendChild(docLink);\n",
              "        }\n",
              "      </script>\n",
              "    </div>\n",
              "  </div>\n",
              "  "
            ]
          },
          "metadata": {},
          "execution_count": 3
        }
      ]
    },
    {
      "cell_type": "markdown",
      "source": [
        "# Apply Window of 30"
      ],
      "metadata": {
        "id": "6devrAAA4f38"
      }
    },
    {
      "cell_type": "code",
      "source": [
        "import numpy as np\n",
        "import pandas as pd\n",
        "\n",
        "# Assuming your input data is stored in a Pandas DataFrame called `data`\n",
        "# with shape (n, 6)\n",
        "\n",
        "# Convert the DataFrame to a NumPy array\n",
        "data_val = data.values\n",
        "\n",
        "# Reshape the array to have shape (n, 30, 6)\n",
        "n = data_val.shape[0]\n",
        "time_steps = 30\n",
        "num_features = 6\n",
        "\n",
        "# Remove the last column of `data_val`\n",
        "data_label= data_val[:, -1]\n",
        "data_val = data_val[:, :-1]\n",
        "\n",
        "# Reshape the data\n",
        "reshaped_data = np.empty((n, time_steps, num_features))\n",
        "reshaped_label = np.empty((n, 1))\n",
        "\n",
        "# Iterate over the original data and fill in the reshaped array\n",
        "for i in range(n - time_steps + 1):\n",
        "    reshaped_data[i] = data_val[i:i+time_steps]\n",
        "    reshaped_label[i]=data_label[i + time_steps - 1]"
      ],
      "metadata": {
        "id": "hfLPpxqvzkml"
      },
      "execution_count": 3,
      "outputs": []
    },
    {
      "cell_type": "markdown",
      "source": [
        "# Train test split"
      ],
      "metadata": {
        "id": "VS6uWAFZe2rF"
      }
    },
    {
      "cell_type": "code",
      "source": [
        "# Assigning Dependent and Independent Variables to X and y respectively\n",
        "X= reshaped_data                            \n",
        "y= reshaped_label    "
      ],
      "metadata": {
        "id": "8ZW4g5sMb5NY"
      },
      "execution_count": 4,
      "outputs": []
    },
    {
      "cell_type": "code",
      "source": [
        "import numpy as np\n",
        "\n",
        "# create a sample numpy array\n",
        "#arr = np.array([1, 2, 3, 4, 5])\n",
        "\n",
        "# save the array to a file to reduce RAM usage overall \n",
        "np.save('/content/drive/MyDrive/NeuralNets/Competition/X.npy', X)\n",
        "np.save('/content/drive/MyDrive/NeuralNets/Competition/y.npy', y)"
      ],
      "metadata": {
        "id": "gkvdmaaYRAD6"
      },
      "execution_count": null,
      "outputs": []
    },
    {
      "cell_type": "code",
      "source": [
        "# Loading the Saved processed array directly without the previous cells\n",
        "X = np.load('/content/drive/MyDrive/NeuralNets/Competition/X_60.npy')\n",
        "y = np.load('/content/drive/MyDrive/NeuralNets/Competition/y_60.npy')"
      ],
      "metadata": {
        "id": "io4N1R2GSBjx"
      },
      "execution_count": null,
      "outputs": []
    },
    {
      "cell_type": "code",
      "source": [
        "from sklearn.model_selection import train_test_split\n",
        "\n",
        "X_train, X_test, y_train, y_test = train_test_split(X, y, test_size=0.33, random_state=42)"
      ],
      "metadata": {
        "id": "JkV3yqvCdsPU"
      },
      "execution_count": 5,
      "outputs": []
    },
    {
      "cell_type": "code",
      "source": [
        "# Categorical Encoding of the class labels\n",
        "y_train = to_categorical(y_train)\n",
        "y_test = to_categorical(y_test)"
      ],
      "metadata": {
        "id": "w8WIigtFcOsW"
      },
      "execution_count": 20,
      "outputs": []
    },
    {
      "cell_type": "code",
      "source": [
        "# save the array to a file\n",
        "np.save('/content/drive/MyDrive/NeuralNets/Competition/X_60.npy', X)\n",
        "np.save('/content/drive/MyDrive/NeuralNets/Competition/y_60.npy', y)"
      ],
      "metadata": {
        "id": "QVQPu8CyVn6G"
      },
      "execution_count": null,
      "outputs": []
    },
    {
      "cell_type": "markdown",
      "source": [
        "# Tabel Data"
      ],
      "metadata": {
        "id": "GtkOhWvOdFBg"
      }
    },
    {
      "cell_type": "code",
      "source": [
        "opt = keras.optimizers.Adam(learning_rate=0.01)"
      ],
      "metadata": {
        "id": "47c2pRMK2ZSR"
      },
      "execution_count": 7,
      "outputs": []
    },
    {
      "cell_type": "code",
      "source": [
        "np.unique(y)"
      ],
      "metadata": {
        "colab": {
          "base_uri": "https://localhost:8080/"
        },
        "id": "yGjvSnp5xD2s",
        "outputId": "355603f5-5f31-4ab1-f8cc-8e6a95c3fb78"
      },
      "execution_count": 8,
      "outputs": [
        {
          "output_type": "execute_result",
          "data": {
            "text/plain": [
              "array([0., 1., 2., 3.])"
            ]
          },
          "metadata": {},
          "execution_count": 8
        }
      ]
    },
    {
      "cell_type": "code",
      "source": [
        "# convert y to a 1D Python list\n",
        "y_list = y.ravel().tolist()"
      ],
      "metadata": {
        "id": "iE7ldpSZxilY"
      },
      "execution_count": 9,
      "outputs": []
    },
    {
      "cell_type": "code",
      "source": [
        "# y_list"
      ],
      "metadata": {
        "id": "1GO81AyM_lso"
      },
      "execution_count": null,
      "outputs": []
    },
    {
      "cell_type": "markdown",
      "source": [
        "# Hyperparameters Defining"
      ],
      "metadata": {
        "id": "248-uknZjS9F"
      }
    },
    {
      "cell_type": "code",
      "source": [
        "from tensorflow.keras.callbacks import EarlyStopping\n",
        "from keras.callbacks import ReduceLROnPlateau\n",
        "\n",
        "callback = tf.keras.callbacks.EarlyStopping(monitor='acc', patience=2)\n",
        "\n",
        "# Define a learning rate decay method:\n",
        "lr_decay = ReduceLROnPlateau(monitor='loss', \n",
        "                             patience=1, verbose=0, \n",
        "                             factor=0.5, min_lr=1e-8)\n",
        "\n",
        "from sklearn.utils import class_weight\n",
        "\n",
        "class_weights = class_weight.compute_class_weight('balanced', classes=np.unique(y_list), y=y_list)\n",
        "print(class_weights)\n"
      ],
      "metadata": {
        "colab": {
          "base_uri": "https://localhost:8080/"
        },
        "id": "m_Co-Bl4vM-Z",
        "outputId": "0ae634a9-7657-4f91-e685-c3755cb41f1c"
      },
      "execution_count": 11,
      "outputs": [
        {
          "output_type": "stream",
          "name": "stdout",
          "text": [
            "[0.33394202 5.75284421 4.50395459 1.64038231]\n"
          ]
        }
      ]
    },
    {
      "cell_type": "markdown",
      "source": [
        "# Model Designed"
      ],
      "metadata": {
        "id": "Nr4AyIu1jNsS"
      }
    },
    {
      "cell_type": "code",
      "source": [
        "# LSTM\n",
        "model1 = Sequential()\n",
        "model1.add(LSTM(64, input_shape=X_train[0].shape, return_sequences=True))\n",
        "model1.add(LSTM(32))\n",
        "\n",
        "model1.add(Dropout(0.5))\n",
        "\n",
        "model1.add(Flatten())\n",
        "\n",
        "model1.add(Dense(100, activation='relu'))\n",
        "model1.add(Dense(25, activation='relu'))\n",
        "model1.add(Dense(4, activation='softmax'))\n",
        "\n",
        "model1.compile(loss='categorical_crossentropy', optimizer='adam', metrics=['acc'])  \n",
        "\n",
        "model1.summary()"
      ],
      "metadata": {
        "colab": {
          "base_uri": "https://localhost:8080/"
        },
        "id": "5jfQ0uHedG_u",
        "outputId": "0a90669a-5bea-420f-9740-39d0724b4867"
      },
      "execution_count": 12,
      "outputs": [
        {
          "output_type": "stream",
          "name": "stdout",
          "text": [
            "Model: \"sequential\"\n",
            "_________________________________________________________________\n",
            " Layer (type)                Output Shape              Param #   \n",
            "=================================================================\n",
            " lstm (LSTM)                 (None, 30, 64)            18176     \n",
            "                                                                 \n",
            " lstm_1 (LSTM)               (None, 32)                12416     \n",
            "                                                                 \n",
            " dropout (Dropout)           (None, 32)                0         \n",
            "                                                                 \n",
            " flatten (Flatten)           (None, 32)                0         \n",
            "                                                                 \n",
            " dense (Dense)               (None, 100)               3300      \n",
            "                                                                 \n",
            " dense_1 (Dense)             (None, 25)                2525      \n",
            "                                                                 \n",
            " dense_2 (Dense)             (None, 4)                 104       \n",
            "                                                                 \n",
            "=================================================================\n",
            "Total params: 36,521\n",
            "Trainable params: 36,521\n",
            "Non-trainable params: 0\n",
            "_________________________________________________________________\n"
          ]
        }
      ]
    },
    {
      "cell_type": "code",
      "source": [
        "from tensorflow import keras\n",
        "model1 = keras.models.load_model('/content/drive/MyDrive/NeuralNets/Competition/LSTM_impr1_win60_2')"
      ],
      "metadata": {
        "id": "4DKa_Mk5-2o6"
      },
      "execution_count": null,
      "outputs": []
    },
    {
      "cell_type": "code",
      "source": [
        "model1.fit(X_train, y_train, epochs=1, verbose=1,validation_steps=0.3, callbacks=[callback, lr_decay],\n",
        "          class_weight=dict(enumerate(class_weights)))"
      ],
      "metadata": {
        "id": "uiItcvYUd_8g",
        "colab": {
          "base_uri": "https://localhost:8080/"
        },
        "outputId": "e88c9718-e250-4bb4-dde2-6873b2ffc6dd"
      },
      "execution_count": 13,
      "outputs": [
        {
          "output_type": "stream",
          "name": "stdout",
          "text": [
            "28163/28163 [==============================] - 267s 9ms/step - loss: 0.2699 - acc: 0.8485 - lr: 0.0010\n"
          ]
        },
        {
          "output_type": "execute_result",
          "data": {
            "text/plain": [
              "<keras.callbacks.History at 0x7fbfa8274370>"
            ]
          },
          "metadata": {},
          "execution_count": 13
        }
      ]
    },
    {
      "cell_type": "markdown",
      "source": [
        "# Save best trained Model"
      ],
      "metadata": {
        "id": "VVtsyrSAauq8"
      }
    },
    {
      "cell_type": "code",
      "source": [
        "model1.save(\"/content/drive/MyDrive/NeuralNets/Competition/LSTM_impr1_win60\")"
      ],
      "metadata": {
        "id": "A7BkBk00XW6w"
      },
      "execution_count": null,
      "outputs": []
    },
    {
      "cell_type": "markdown",
      "source": [
        "# Model Evaluation "
      ],
      "metadata": {
        "id": "FHabJkAlc4LX"
      }
    },
    {
      "cell_type": "code",
      "source": [
        "# evaluate model\n",
        "_, accuracy = model1.evaluate(X_test, y_test, batch_size=32, verbose=1)"
      ],
      "metadata": {
        "id": "-6x5_VsCgqpP",
        "colab": {
          "base_uri": "https://localhost:8080/"
        },
        "outputId": "6cbb460b-e6ae-4c72-b46b-f204e365a41f"
      },
      "execution_count": 14,
      "outputs": [
        {
          "output_type": "stream",
          "name": "stdout",
          "text": [
            "13871/13871 [==============================] - 68s 5ms/step - loss: 0.2235 - acc: 0.9210\n"
          ]
        }
      ]
    },
    {
      "cell_type": "code",
      "source": [
        "from sklearn.metrics import f1_score\n",
        "\n",
        "# Using model1 that has been trained on `X_train` and `y_train`\n",
        "y_pred = model1.predict(X_test)"
      ],
      "metadata": {
        "id": "GXhtCpQ7HrzJ",
        "colab": {
          "base_uri": "https://localhost:8080/"
        },
        "outputId": "824dfcdc-83d7-4cd1-cec6-1fe4d8053ac2"
      },
      "execution_count": 16,
      "outputs": [
        {
          "output_type": "stream",
          "name": "stdout",
          "text": [
            "13871/13871 [==============================] - 48s 3ms/step\n"
          ]
        }
      ]
    },
    {
      "cell_type": "code",
      "source": [
        "y_pred = np.argmax(y_pred, axis=1)"
      ],
      "metadata": {
        "id": "nfo5oQWKI1Tm"
      },
      "execution_count": 17,
      "outputs": []
    },
    {
      "cell_type": "code",
      "source": [
        "y_test = np.argmax(y_test, axis=1)"
      ],
      "metadata": {
        "id": "IZD8SjiiJnwQ"
      },
      "execution_count": 21,
      "outputs": []
    },
    {
      "cell_type": "code",
      "source": [
        "# `y_true` contains the true labels for `X_test`\n",
        "# Metric used for Evaluation F1 score (Macro)\n",
        "\n",
        "f1 = f1_score(y_test, y_pred, average='macro')\n",
        "print(\"F1 Score:\", f1)"
      ],
      "metadata": {
        "id": "LftE-N4bI33F",
        "colab": {
          "base_uri": "https://localhost:8080/"
        },
        "outputId": "2635603f-98ba-4e8b-80ab-075a5fe8f8b0"
      },
      "execution_count": 22,
      "outputs": [
        {
          "output_type": "stream",
          "name": "stdout",
          "text": [
            "F1 Score: 0.8887076826603033\n"
          ]
        }
      ]
    },
    {
      "cell_type": "code",
      "source": [
        "# model1.save(\"/content/drive/MyDrive/NeuralNets/Competition/LSTM_wind30\")"
      ],
      "metadata": {
        "id": "_sQp-5mJ2bdc"
      },
      "execution_count": null,
      "outputs": []
    },
    {
      "cell_type": "markdown",
      "source": [
        "# Run in Loop (Training) "
      ],
      "metadata": {
        "id": "yG2Ljv5Fjbzp"
      }
    },
    {
      "cell_type": "code",
      "source": [
        "from tensorflow import keras\n",
        "model1 = keras.models.load_model('/content/drive/MyDrive/NeuralNets/Competition/LSTM_impr_2')"
      ],
      "metadata": {
        "id": "zDspLImXjeAl"
      },
      "execution_count": null,
      "outputs": []
    },
    {
      "cell_type": "code",
      "source": [
        "from sklearn.metrics import f1_score\n",
        "\n",
        "# Loaded model named model1 that has been trained on `X_train` and `y_train` and saved\n",
        "y_pred = model1.predict(X_test)"
      ],
      "metadata": {
        "colab": {
          "base_uri": "https://localhost:8080/"
        },
        "id": "wplJlKBD6xlj",
        "outputId": "57328146-a071-4245-9302-d14688d15575"
      },
      "execution_count": null,
      "outputs": [
        {
          "output_type": "stream",
          "name": "stdout",
          "text": [
            "13871/13871 [==============================] - 332s 24ms/step\n"
          ]
        }
      ]
    },
    {
      "cell_type": "code",
      "source": [
        "y_test = np.argmax(y_test, axis=1)"
      ],
      "metadata": {
        "id": "dAAeS-eT62eN"
      },
      "execution_count": null,
      "outputs": []
    },
    {
      "cell_type": "code",
      "source": [
        "y_pred = np.argmax(y_pred, axis=1)"
      ],
      "metadata": {
        "id": "scePTqZDBhTw"
      },
      "execution_count": null,
      "outputs": []
    },
    {
      "cell_type": "code",
      "source": [
        "f1 = f1_score(y_test, y_pred, average='macro')\n",
        "print(\"F1 Score:\", f1)"
      ],
      "metadata": {
        "colab": {
          "base_uri": "https://localhost:8080/"
        },
        "id": "meZtI57x67ST",
        "outputId": "b8f74b45-f9a9-424d-caaf-400a54cbbbc4"
      },
      "execution_count": null,
      "outputs": [
        {
          "output_type": "stream",
          "name": "stdout",
          "text": [
            "F1 Score: 0.9639431200991896\n"
          ]
        }
      ]
    },
    {
      "cell_type": "code",
      "source": [
        "print(classification_report(y_test, y_pred))"
      ],
      "metadata": {
        "colab": {
          "base_uri": "https://localhost:8080/"
        },
        "id": "KGkGV-Eh69C0",
        "outputId": "d02530c6-482b-4ccd-fb1e-2a7c09dcd91f"
      },
      "execution_count": null,
      "outputs": [
        {
          "output_type": "stream",
          "name": "stdout",
          "text": [
            "              precision    recall  f1-score   support\n",
            "\n",
            "           0       0.99      0.98      0.99    332155\n",
            "           1       0.92      1.00      0.96     19192\n",
            "           2       0.90      1.00      0.95     24747\n",
            "           3       0.97      0.96      0.97     67777\n",
            "\n",
            "    accuracy                           0.98    443871\n",
            "   macro avg       0.95      0.98      0.96    443871\n",
            "weighted avg       0.98      0.98      0.98    443871\n",
            "\n"
          ]
        }
      ]
    },
    {
      "cell_type": "code",
      "source": [
        "model1.save(\"/content/drive/MyDrive/NeuralNets/Competition/LSTM_impr1_win60_2\")"
      ],
      "metadata": {
        "colab": {
          "base_uri": "https://localhost:8080/"
        },
        "id": "newM314qj6ZR",
        "outputId": "27a0412a-0e8e-46d0-e2a2-e72952369009"
      },
      "execution_count": null,
      "outputs": [
        {
          "output_type": "stream",
          "name": "stderr",
          "text": [
            "WARNING:absl:Found untraced functions such as _update_step_xla, lstm_cell_layer_call_fn, lstm_cell_layer_call_and_return_conditional_losses, lstm_cell_1_layer_call_fn, lstm_cell_1_layer_call_and_return_conditional_losses while saving (showing 5 of 5). These functions will not be directly callable after loading.\n"
          ]
        }
      ]
    },
    {
      "cell_type": "markdown",
      "source": [
        "# Predictions"
      ],
      "metadata": {
        "id": "koZKOWmWOHW0"
      }
    },
    {
      "cell_type": "code",
      "source": [
        "from tensorflow import keras\n",
        "model = keras.models.load_model('/content/drive/MyDrive/NeuralNets/Competition/LSTM_wind30')"
      ],
      "metadata": {
        "id": "T50ov7CGiGXF"
      },
      "execution_count": null,
      "outputs": []
    },
    {
      "cell_type": "code",
      "source": [
        "# Get the predictions of the test set given in /TestData\n",
        "subject9_X = create_dataframe_X('/content/drive/MyDrive/NeuralNets/TestData/subject_009_01__x.csv', '/content/drive/MyDrive/NeuralNets/TestData/subject_009_01__x_time.csv')\n",
        "subject10_X = create_dataframe_X('/content/drive/MyDrive/NeuralNets/TestData/subject_010_01__x.csv', '/content/drive/MyDrive/NeuralNets/TestData/subject_010_01__x_time.csv')\n",
        "subject11_X = create_dataframe_X('/content/drive/MyDrive/NeuralNets/TestData/subject_011_01__x.csv', '/content/drive/MyDrive/NeuralNets/TestData/subject_011_01__x_time.csv')\n",
        "subject12_X = create_dataframe_X('/content/drive/MyDrive/NeuralNets/TestData/subject_012_01__x.csv', '/content/drive/MyDrive/NeuralNets/TestData/subject_012_01__x_time.csv')\n",
        "\n",
        "subject9_X = subject9_X.drop(columns = ['Time stamp'])\n",
        "subject10_X = subject10_X.drop(columns = ['Time stamp'])\n",
        "subject11_X = subject11_X.drop(columns = ['Time stamp'])\n",
        "subject12_X = subject12_X.drop(columns = ['Time stamp'])"
      ],
      "metadata": {
        "id": "pwiQvXPHOLgd"
      },
      "execution_count": null,
      "outputs": []
    },
    {
      "cell_type": "code",
      "source": [
        "import numpy as np\n",
        "import pandas as pd\n",
        "\n",
        "# Assuming your input data is stored in a Pandas DataFrame called `df`\n",
        "# with shape (n, 6)\n",
        "\n",
        "def windowing(data):\n",
        "  # Convert the DataFrame to a NumPy array\n",
        "  data_val = data.values\n",
        "\n",
        "  # Reshape the array to have shape (n, 30, 6)\n",
        "  n = data_val.shape[0]\n",
        "  time_steps = 30\n",
        "  num_features = 6\n",
        "\n",
        "  # Reshape the data\n",
        "  reshaped_data = np.empty((n, time_steps, num_features))\n",
        "  # reshaped_label = np.empty((n, 1))\n",
        "\n",
        "  # Iterate over the original data and fill in the reshaped array\n",
        "  for i in range(n - time_steps + 1):\n",
        "      reshaped_data[i] = data_val[i:i+time_steps]\n",
        "      # reshaped_label[i]=data_label[i + time_steps - 1]\n",
        "  \n",
        "  return reshaped_data\n"
      ],
      "metadata": {
        "id": "yo_AX1N6Ohrc"
      },
      "execution_count": null,
      "outputs": []
    },
    {
      "cell_type": "code",
      "source": [
        "def df_modes(df):\n",
        "  # calculate the mode for every 4 elements\n",
        "  modes = []\n",
        "  for i, row in df.iterrows():\n",
        "      if i % 4 == 0 and i + 4 <= len(df):\n",
        "          mode = df.loc[i:i+3].mode().iloc[0]\n",
        "          modes.append(mode)\n",
        "\n",
        "  # convert the result to a DataFrame\n",
        "  modes_df = pd.DataFrame(modes, columns=df.columns)\n",
        "\n",
        "  return modes_df"
      ],
      "metadata": {
        "id": "H7CUfm9qf-iK"
      },
      "execution_count": null,
      "outputs": []
    },
    {
      "cell_type": "markdown",
      "source": [
        "# Subject 9"
      ],
      "metadata": {
        "id": "jDIhZLJQjvQ2"
      }
    },
    {
      "cell_type": "code",
      "source": [
        "df_9=pd.read_csv('/content/drive/MyDrive/NeuralNets/TestData/subject_009_01__y_time.csv',header=None)"
      ],
      "metadata": {
        "id": "6PbeMR9aYY_5"
      },
      "execution_count": null,
      "outputs": []
    },
    {
      "cell_type": "code",
      "source": [
        "subject9_X.shape"
      ],
      "metadata": {
        "id": "peSDDDtPVS0-",
        "colab": {
          "base_uri": "https://localhost:8080/"
        },
        "outputId": "c9d412f0-156b-4090-a3f8-6a12936a0114"
      },
      "execution_count": null,
      "outputs": [
        {
          "output_type": "execute_result",
          "data": {
            "text/plain": [
              "(37991, 6)"
            ]
          },
          "metadata": {},
          "execution_count": 41
        }
      ]
    },
    {
      "cell_type": "code",
      "source": [
        "# Apply the windowing function\n",
        "sub9_win_X=windowing(subject9_X)"
      ],
      "metadata": {
        "id": "6fy_gQ1kS0uV"
      },
      "execution_count": null,
      "outputs": []
    },
    {
      "cell_type": "code",
      "source": [
        "sub9_win_X.shape"
      ],
      "metadata": {
        "id": "ob6HNK9PnJTf",
        "colab": {
          "base_uri": "https://localhost:8080/"
        },
        "outputId": "d0fd2952-b390-4eab-eb28-7c36ee4f1d9b"
      },
      "execution_count": null,
      "outputs": [
        {
          "output_type": "execute_result",
          "data": {
            "text/plain": [
              "(37991, 60, 6)"
            ]
          },
          "metadata": {},
          "execution_count": 43
        }
      ]
    },
    {
      "cell_type": "code",
      "source": [
        "# Predictions using the trained model\n",
        "y_pred_sub9=model1.predict(sub9_win_X)"
      ],
      "metadata": {
        "id": "gHZxLaCDOqnL",
        "colab": {
          "base_uri": "https://localhost:8080/"
        },
        "outputId": "eaa262e0-667d-49fd-c212-78d965e537ee"
      },
      "execution_count": null,
      "outputs": [
        {
          "output_type": "stream",
          "name": "stdout",
          "text": [
            "1188/1188 [==============================] - 34s 28ms/step\n"
          ]
        }
      ]
    },
    {
      "cell_type": "code",
      "source": [
        "# find the index of the maximum value for each array (row)\n",
        "result_sub9 = np.argmax(y_pred_sub9, axis=1)"
      ],
      "metadata": {
        "id": "pZHpucJ5h89A"
      },
      "execution_count": null,
      "outputs": []
    },
    {
      "cell_type": "code",
      "source": [
        "result_sub9.shape"
      ],
      "metadata": {
        "id": "vOl9Fe71mbok",
        "colab": {
          "base_uri": "https://localhost:8080/"
        },
        "outputId": "3314867d-ba90-4520-b636-9d94d8d48db6"
      },
      "execution_count": null,
      "outputs": [
        {
          "output_type": "execute_result",
          "data": {
            "text/plain": [
              "(37991,)"
            ]
          },
          "metadata": {},
          "execution_count": 46
        }
      ]
    },
    {
      "cell_type": "code",
      "source": [
        "df9=pd.DataFrame(result_sub9)"
      ],
      "metadata": {
        "id": "8a-q3VWmgBRN"
      },
      "execution_count": null,
      "outputs": []
    },
    {
      "cell_type": "code",
      "source": [
        "modes_df9= df_modes(df9)"
      ],
      "metadata": {
        "id": "q-Ok5DH36yLd"
      },
      "execution_count": null,
      "outputs": []
    },
    {
      "cell_type": "code",
      "source": [
        "print(\"Shapes: y_time ={},  Modes Df={}\".format(df_9.shape, modes_df9.shape))"
      ],
      "metadata": {
        "id": "psmwKyOLkZHa",
        "colab": {
          "base_uri": "https://localhost:8080/"
        },
        "outputId": "230cb5f3-91ca-42ba-86d0-28c399208095"
      },
      "execution_count": null,
      "outputs": [
        {
          "output_type": "stream",
          "name": "stdout",
          "text": [
            "Shapes: y_time =(9498, 1),  Modes Df=(9497, 1)\n"
          ]
        }
      ]
    },
    {
      "cell_type": "markdown",
      "source": [
        "# Subject 10"
      ],
      "metadata": {
        "id": "Qu_cYGMcj6yx"
      }
    },
    {
      "cell_type": "code",
      "source": [
        "df_10=pd.read_csv('/content/drive/MyDrive/NeuralNets/TestData/subject_010_01__y_time.csv',header=None)"
      ],
      "metadata": {
        "id": "cpqihtJTlpAz"
      },
      "execution_count": null,
      "outputs": []
    },
    {
      "cell_type": "code",
      "source": [
        "# Apply the windowing function\n",
        "sub10_win_X=windowing(subject10_X)\n",
        "\n",
        "# Predictions using the trained model\n",
        "y_pred_sub10=model1.predict(sub10_win_X)\n",
        "\n",
        "# find the index of the maximum value for each array (row)\n",
        "result_sub10 = np.argmax(y_pred_sub10, axis=1)\n",
        "\n",
        "df10=pd.DataFrame(result_sub10)\n",
        "\n",
        "modes_df10= df_modes(df10)\n"
      ],
      "metadata": {
        "id": "4kg72jbkj8Ob",
        "colab": {
          "base_uri": "https://localhost:8080/"
        },
        "outputId": "9f3f430f-16c2-490f-a6b2-e9e12d14f26a"
      },
      "execution_count": null,
      "outputs": [
        {
          "output_type": "stream",
          "name": "stdout",
          "text": [
            "1534/1534 [==============================] - 39s 25ms/step\n"
          ]
        }
      ]
    },
    {
      "cell_type": "code",
      "source": [
        "print(\"Shapes: y_time ={},  Modes Df={}\".format(df_10.shape, modes_df10.shape))"
      ],
      "metadata": {
        "id": "g_VzVZuE7JGq",
        "colab": {
          "base_uri": "https://localhost:8080/"
        },
        "outputId": "f9c0cb0f-9e66-459e-f1ba-2e275f002ee0"
      },
      "execution_count": null,
      "outputs": [
        {
          "output_type": "stream",
          "name": "stdout",
          "text": [
            "Shapes: y_time =(12270, 1),  Modes Df=(12270, 1)\n"
          ]
        }
      ]
    },
    {
      "cell_type": "markdown",
      "source": [
        "# Subject 11"
      ],
      "metadata": {
        "id": "qLe-J_Rqlhgi"
      }
    },
    {
      "cell_type": "code",
      "source": [
        "df_11=pd.read_csv('/content/drive/MyDrive/NeuralNets/TestData/subject_011_01__y_time.csv',header=None)"
      ],
      "metadata": {
        "id": "w_KX7c0q7Rpm"
      },
      "execution_count": null,
      "outputs": []
    },
    {
      "cell_type": "code",
      "source": [
        "# Apply the windowing function\n",
        "sub11_win_X=windowing(subject11_X)\n",
        "\n",
        "# Predictions using the trained model\n",
        "y_pred_sub11=model1.predict(sub11_win_X)\n",
        "\n",
        "# find the index of the maximum value for each array (row)\n",
        "result_sub11 = np.argmax(y_pred_sub11, axis=1)\n",
        "\n",
        "df11=pd.DataFrame(result_sub11)\n",
        "\n",
        "modes_df11= df_modes(df11)"
      ],
      "metadata": {
        "id": "bcrCaQEIkEXU",
        "colab": {
          "base_uri": "https://localhost:8080/"
        },
        "outputId": "6216f7b1-ff60-49b7-ea92-9f63cde1a9f6"
      },
      "execution_count": null,
      "outputs": [
        {
          "output_type": "stream",
          "name": "stdout",
          "text": [
            "1618/1618 [==============================] - 43s 27ms/step\n"
          ]
        }
      ]
    },
    {
      "cell_type": "code",
      "source": [
        "print(\"Shapes: y_time ={},  Modes Df={}\".format(df_11.shape, modes_df11.shape))"
      ],
      "metadata": {
        "id": "OxQb7dPt8AUe",
        "colab": {
          "base_uri": "https://localhost:8080/"
        },
        "outputId": "9b66bc7f-5a07-49c6-869b-19136276e268"
      },
      "execution_count": null,
      "outputs": [
        {
          "output_type": "stream",
          "name": "stdout",
          "text": [
            "Shapes: y_time =(12940, 1),  Modes Df=(12940, 1)\n"
          ]
        }
      ]
    },
    {
      "cell_type": "markdown",
      "source": [
        "# Subject 12"
      ],
      "metadata": {
        "id": "I6rnjU3ZljvD"
      }
    },
    {
      "cell_type": "code",
      "source": [
        "df_12=pd.read_csv('/content/drive/MyDrive/NeuralNets/TestData/subject_012_01__y_time.csv',header=None)"
      ],
      "metadata": {
        "id": "Nm8sCEby8Kud"
      },
      "execution_count": null,
      "outputs": []
    },
    {
      "cell_type": "code",
      "source": [
        "# Apply the windowing function\n",
        "sub12_win_X=windowing(subject12_X)\n",
        "\n",
        "# Predictions using the trained model\n",
        "y_pred_sub12=model1.predict(sub12_win_X)\n",
        "\n",
        "# find the index of the maximum value for each array (row)\n",
        "result_sub12 = np.argmax(y_pred_sub12, axis=1)\n",
        "\n",
        "df12=pd.DataFrame(result_sub12)\n",
        "\n",
        "modes_df12= df_modes(df12)"
      ],
      "metadata": {
        "id": "klqWf8gjkGVh",
        "colab": {
          "base_uri": "https://localhost:8080/"
        },
        "outputId": "b2bb4757-9757-4297-db40-a4afaff88dad"
      },
      "execution_count": null,
      "outputs": [
        {
          "output_type": "stream",
          "name": "stdout",
          "text": [
            "1417/1417 [==============================] - 36s 26ms/step\n"
          ]
        }
      ]
    },
    {
      "cell_type": "code",
      "source": [
        "print(\"Shapes: y_time ={},  Modes Df={}\".format(df_12.shape, modes_df12.shape))"
      ],
      "metadata": {
        "id": "jp3pnjimkoD4",
        "colab": {
          "base_uri": "https://localhost:8080/"
        },
        "outputId": "046f257e-6b64-42c8-8069-b43ce2dc2822"
      },
      "execution_count": null,
      "outputs": [
        {
          "output_type": "stream",
          "name": "stdout",
          "text": [
            "Shapes: y_time =(11330, 1),  Modes Df=(11329, 1)\n"
          ]
        }
      ]
    },
    {
      "cell_type": "markdown",
      "source": [
        "# Saving Subject Df to CSV"
      ],
      "metadata": {
        "id": "VYi3H2-69__t"
      }
    },
    {
      "cell_type": "code",
      "source": [
        "modes_df9.to_csv('/content/drive/MyDrive/NeuralNets/subject_009_01__y.csv' ,index=False)\n",
        "\n",
        "modes_df10.to_csv('/content/drive/MyDrive/NeuralNets/subject_010_01__y.csv',header=False, index=False)\n",
        "\n",
        "modes_df11.to_csv('/content/drive/MyDrive/NeuralNets/subject_011_01__y.csv',header=False, index=False)\n",
        "\n",
        "modes_df12.to_csv('/content/drive/MyDrive/NeuralNets/subject_012_01__y.csv',index=False)"
      ],
      "metadata": {
        "id": "NMkpsa8p-De-"
      },
      "execution_count": null,
      "outputs": []
    },
    {
      "cell_type": "markdown",
      "source": [
        "# Verification of Shapes of Predictions"
      ],
      "metadata": {
        "id": "GLGGsUB5-Uqn"
      }
    },
    {
      "cell_type": "code",
      "source": [
        "import pandas as pd"
      ],
      "metadata": {
        "id": "HjN0qK7qeBgo"
      },
      "execution_count": null,
      "outputs": []
    },
    {
      "cell_type": "code",
      "source": [
        "df_x=pd.read_csv('/content/drive/MyDrive/NeuralNets/subject_012_01__y.csv',header=None)\n",
        "df_x.shape"
      ],
      "metadata": {
        "id": "ocfw0lOm-QZ6",
        "colab": {
          "base_uri": "https://localhost:8080/"
        },
        "outputId": "a3536aae-bd66-4095-e617-f94d2b5d04eb"
      },
      "execution_count": null,
      "outputs": [
        {
          "output_type": "execute_result",
          "data": {
            "text/plain": [
              "(11330, 1)"
            ]
          },
          "metadata": {},
          "execution_count": 65
        }
      ]
    }
  ]
}